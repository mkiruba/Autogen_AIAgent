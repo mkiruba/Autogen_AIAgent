{
 "cells": [
  {
   "cell_type": "markdown",
   "id": "0b9a3d83",
   "metadata": {},
   "source": [
    "# Lesson 6: Planning and Stock Report Generation"
   ]
  },
  {
   "cell_type": "markdown",
   "id": "8d5f1491",
   "metadata": {},
   "source": [
    "## Setup"
   ]
  },
  {
   "cell_type": "code",
   "execution_count": 1,
   "id": "ad72cb6c-a916-40f7-960c-501c6309037f",
   "metadata": {
    "height": 30
   },
   "outputs": [],
   "source": [
    "llm_config={\"model\": \"gpt-4-turbo\"}"
   ]
  },
  {
   "cell_type": "markdown",
   "id": "d09b03c3",
   "metadata": {},
   "source": [
    "## The task!"
   ]
  },
  {
   "cell_type": "code",
   "execution_count": 2,
   "id": "01c1772f-2583-4c7a-a8a0-dd2946eea022",
   "metadata": {
    "height": 47
   },
   "outputs": [],
   "source": [
    "task = \"Write a blogpost about the stock price performance of \"\\\n",
    "\"Nvidia in the past month. Today's date is 2024-04-23.\""
   ]
  },
  {
   "cell_type": "markdown",
   "id": "be3ca91b",
   "metadata": {},
   "source": [
    "## Build a group chat\n",
    "\n",
    "This group chat will include these agents:\n",
    "\n",
    "1. **User_proxy** or **Admin**: to allow the user to comment on the report and ask the writer to refine it.\n",
    "2. **Planner**: to determine relevant information needed to complete the task.\n",
    "3. **Engineer**: to write code using the defined plan by the planner.\n",
    "4. **Executor**: to execute the code written by the engineer.\n",
    "5. **Writer**: to write the report."
   ]
  },
  {
   "cell_type": "code",
   "execution_count": 3,
   "id": "bd7befab-9487-4c50-8eca-1e2e30dbf7d6",
   "metadata": {
    "height": 30
   },
   "outputs": [
    {
     "name": "stderr",
     "output_type": "stream",
     "text": [
      "c:\\Users\\kiru79381\\source\\repos\\Autogen_AIAgent\\.venv\\lib\\site-packages\\flaml\\__init__.py:20: UserWarning: flaml.automl is not available. Please install flaml[automl] to enable AutoML functionalities.\n",
      "  warnings.warn(\"flaml.automl is not available. Please install flaml[automl] to enable AutoML functionalities.\")\n"
     ]
    }
   ],
   "source": [
    "import autogen"
   ]
  },
  {
   "cell_type": "code",
   "execution_count": 4,
   "id": "3258cb72-cb74-4eab-a387-ee409baf4947",
   "metadata": {
    "height": 149
   },
   "outputs": [
    {
     "name": "stdout",
     "output_type": "stream",
     "text": [
      "[autogen.oai.client: 02-10 22:27:12] {129} WARNING - The API key specified is not a valid OpenAI format; it won't work with the OpenAI-hosted model.\n"
     ]
    }
   ],
   "source": [
    "user_proxy = autogen.ConversableAgent(\n",
    "    name=\"Admin\",\n",
    "    system_message=\"Give the task, and send \"\n",
    "    \"instructions to writer to refine the blog post.\",\n",
    "    code_execution_config=False,\n",
    "    llm_config=llm_config,\n",
    "    human_input_mode=\"ALWAYS\",\n",
    ")"
   ]
  },
  {
   "cell_type": "code",
   "execution_count": 5,
   "id": "0832b856-f13d-4e16-b61f-69eb23e0ae71",
   "metadata": {
    "height": 285
   },
   "outputs": [
    {
     "name": "stdout",
     "output_type": "stream",
     "text": [
      "[autogen.oai.client: 02-10 22:27:32] {129} WARNING - The API key specified is not a valid OpenAI format; it won't work with the OpenAI-hosted model.\n"
     ]
    }
   ],
   "source": [
    "planner = autogen.ConversableAgent(\n",
    "    name=\"Planner\",\n",
    "    system_message=\"Given a task, please determine \"\n",
    "    \"what information is needed to complete the task. \"\n",
    "    \"Please note that the information will all be retrieved using\"\n",
    "    \" Python code. Please only suggest information that can be \"\n",
    "    \"retrieved using Python code. \"\n",
    "    \"After each step is done by others, check the progress and \"\n",
    "    \"instruct the remaining steps. If a step fails, try to \"\n",
    "    \"workaround\",\n",
    "    description=\"Planner. Given a task, determine what \"\n",
    "    \"information is needed to complete the task. \"\n",
    "    \"After each step is done by others, check the progress and \"\n",
    "    \"instruct the remaining steps\",\n",
    "    llm_config=llm_config,\n",
    ")"
   ]
  },
  {
   "cell_type": "code",
   "execution_count": 6,
   "id": "2427f55d-fb7b-4f3c-85d4-dcd35547b397",
   "metadata": {
    "height": 115
   },
   "outputs": [
    {
     "name": "stdout",
     "output_type": "stream",
     "text": [
      "[autogen.oai.client: 02-10 22:28:24] {129} WARNING - The API key specified is not a valid OpenAI format; it won't work with the OpenAI-hosted model.\n"
     ]
    }
   ],
   "source": [
    "engineer = autogen.AssistantAgent(\n",
    "    name=\"Engineer\",\n",
    "    llm_config=llm_config,\n",
    "    description=\"An engineer that writes code based on the plan \"\n",
    "    \"provided by the planner.\",\n",
    ")"
   ]
  },
  {
   "cell_type": "markdown",
   "id": "429ed9f1",
   "metadata": {},
   "source": [
    "**Note**: In this lesson, you'll use an alternative method of code execution by providing a dict config. However, you can always use the LocalCommandLineCodeExecutor if you prefer. For more details about code_execution_config, check this: https://microsoft.github.io/autogen/docs/reference/agentchat/conversable_agent/#__init__"
   ]
  },
  {
   "cell_type": "code",
   "execution_count": 7,
   "id": "040ac21f-b4bf-4bd6-ac58-fdb2c8f8de14",
   "metadata": {
    "height": 200
   },
   "outputs": [],
   "source": [
    "executor = autogen.ConversableAgent(\n",
    "    name=\"Executor\",\n",
    "    system_message=\"Execute the code written by the \"\n",
    "    \"engineer and report the result.\",\n",
    "    human_input_mode=\"NEVER\",\n",
    "    code_execution_config={\n",
    "        \"last_n_messages\": 3,\n",
    "        \"work_dir\": \"coding\",\n",
    "        \"use_docker\": False,\n",
    "    },\n",
    ")"
   ]
  },
  {
   "cell_type": "code",
   "execution_count": 8,
   "id": "d6367fb4-a81b-411c-a339-8dd3d1d41483",
   "metadata": {
    "height": 200
   },
   "outputs": [
    {
     "name": "stdout",
     "output_type": "stream",
     "text": [
      "[autogen.oai.client: 02-10 22:28:29] {129} WARNING - The API key specified is not a valid OpenAI format; it won't work with the OpenAI-hosted model.\n"
     ]
    }
   ],
   "source": [
    "writer = autogen.ConversableAgent(\n",
    "    name=\"Writer\",\n",
    "    llm_config=llm_config,\n",
    "    system_message=\"Writer.\"\n",
    "    \"Please write blogs in markdown format (with relevant titles)\"\n",
    "    \" and put the content in pseudo ```md``` code block. \"\n",
    "    \"You take feedback from the admin and refine your blog.\",\n",
    "    description=\"Writer.\"\n",
    "    \"Write blogs based on the code execution results and take \"\n",
    "    \"feedback from the admin to refine the blog.\"\n",
    ")"
   ]
  },
  {
   "cell_type": "markdown",
   "id": "a2ea86b5",
   "metadata": {},
   "source": [
    "## Define the group chat"
   ]
  },
  {
   "cell_type": "code",
   "execution_count": 9,
   "id": "cbf3c4b7-d4b8-4f97-8a25-e23107904ad5",
   "metadata": {
    "height": 98
   },
   "outputs": [],
   "source": [
    "groupchat = autogen.GroupChat(\n",
    "    agents=[user_proxy, engineer, writer, executor, planner],\n",
    "    messages=[],\n",
    "    max_round=10,\n",
    ")"
   ]
  },
  {
   "cell_type": "code",
   "execution_count": 10,
   "id": "bfcabc20-9316-45b7-852d-42e14550a956",
   "metadata": {
    "height": 81
   },
   "outputs": [
    {
     "name": "stdout",
     "output_type": "stream",
     "text": [
      "[autogen.oai.client: 02-10 22:37:21] {129} WARNING - The API key specified is not a valid OpenAI format; it won't work with the OpenAI-hosted model.\n"
     ]
    }
   ],
   "source": [
    "manager = autogen.GroupChatManager(\n",
    "    groupchat=groupchat, llm_config=llm_config\n",
    ")\n"
   ]
  },
  {
   "cell_type": "markdown",
   "id": "b51eaffa",
   "metadata": {},
   "source": [
    "## Start the group chat!"
   ]
  },
  {
   "cell_type": "markdown",
   "id": "5dd69615",
   "metadata": {},
   "source": [
    "<p style=\"background-color:#ECECEC; padding:15px; \"> <b>Note:</b> In this lesson, you will use GPT 4 for better results. Please note that the lesson has a quota limit. If you want to explore the code in this lesson further, we recommend trying it locally with your own API key."
   ]
  },
  {
   "cell_type": "code",
   "execution_count": 11,
   "id": "a9899e8f-2971-487c-9d0e-932c36b3b75a",
   "metadata": {
    "height": 81
   },
   "outputs": [
    {
     "name": "stdout",
     "output_type": "stream",
     "text": [
      "\u001b[33mAdmin\u001b[0m (to chat_manager):\n",
      "\n",
      "Write a blogpost about the stock price performance of Nvidia in the past month. Today's date is 2024-04-23.\n",
      "\n",
      "--------------------------------------------------------------------------------\n",
      "\u001b[31m\n",
      ">>>>>>>> USING AUTO REPLY...\u001b[0m\n",
      "\u001b[33mPlanner\u001b[0m (to chat_manager):\n",
      "\n",
      "To write a blogpost about Nvidia's stock price performance over the past month, you'll need the following data and analysis:\n",
      "\n",
      "1. **Past Month's Stock Price Data**: Retrieve daily stock prices for Nvidia from 2024-03-23 to 2024-04-23. This includes opening, closing, high, and low prices for each trading day.\n",
      "2. **Stock Price Analysis**:\n",
      "   - Calculate the percentage change over the month.\n",
      "   - Identify any significant peaks or troughs in the stock price.\n",
      "   - Analyze volume trends (if volume data is available).\n",
      "3. **Market News and Events**: Identify any major news or events during this period that might have impacted Nvidia’s stock price, such as financial reports, product announcements, or macroeconomic factors.\n",
      "4. **Comparative Analysis** (optional): Compare Nvidia's stock performance with major indices or competitors during the same period.\n",
      "\n",
      "### Step 1: Retrieve Past Month's Stock Price Data\n",
      "\n",
      "For this, you can use financial data APIs like Yahoo Finance, Alpha Vantage, or similar services. In Python, libraries such as `yfinance` can be used to easily fetch this data.\n",
      "\n",
      "### Request:\n",
      "Could you please retrieve Nvidia's stock price data and calculate the necessary stock price statistics for the last month using Python? Please include daily high, low, opening, and closing prices along with any relevant volume and change statistics.\n",
      "\n",
      "--------------------------------------------------------------------------------\n",
      "\u001b[33mEngineer\u001b[0m (to chat_manager):\n",
      "\n",
      "To fetch the stock price data for Nvidia and perform the necessary calculations, you can use the Python library called `yfinance`, which allows you to retrieve historical market data from Yahoo Finance easily. Below is the python code that retrieves the stock price data for Nvidia for the past month, from 2024-03-23 to 2024-04-23, and calculates key statistics such as daily percentage changes and average volume.\n",
      "\n",
      "Please execute the following Python code to retrieve and analyze Nvidia's stock performance:\n",
      "\n",
      "```python\n",
      "# filename: stock_data_analysis.py\n",
      "import yfinance as yf\n",
      "import pandas as pd\n",
      "\n",
      "# Define the stock ticker symbol for Nvidia\n",
      "ticker_symbol = \"NVDA\"\n",
      "\n",
      "# Define the time period for which we need the data\n",
      "start_date = \"2024-03-23\"\n",
      "end_date = \"2024-04-23\"\n",
      "\n",
      "# Fetch the historical stock data\n",
      "stock_data = yf.download(ticker_symbol, start=start_date, end=end_date)\n",
      "\n",
      "# Calculate daily percentage change in closing price\n",
      "stock_data['Daily Change (%)'] = stock_data['Adj Close'].pct_change() * 100\n",
      "\n",
      "# Summary statistics\n",
      "mean_volume = stock_data['Volume'].mean()\n",
      "closing_price_change = ((stock_data['Adj Close'][-1] - stock_data['Adj Close'][0]) / stock_data['Adj Close'][0]) * 100\n",
      "\n",
      "# Display the results\n",
      "print(\"Summary for Nvidia Stock from 2024-03-23 to 2024-04-23:\")\n",
      "print(stock_data[['Open', 'High', 'Low', 'Close', 'Volume', 'Daily Change (%)']])\n",
      "print(f\"Average daily trading volume: {mean_volume:.2f}\")\n",
      "print(f\"Percentage change in closing price over the period: {closing_price_change:.2f}%\")\n",
      "```\n",
      "\n",
      "This script will:\n",
      "1. Download the stock price data for Nvidia using the YFinance package.\n",
      "2. Calculate daily percentage changes in the adjusted close prices.\n",
      "3. Compute the average daily trading volume.\n",
      "4. Calculate the overall percentage change in the closing price from the start to the end of the specified period.\n",
      "\n",
      "After running this script, please share the output with me to proceed with drafting the blog post based on the collected data and analysis.\n",
      "\n",
      "--------------------------------------------------------------------------------\n",
      "\u001b[31m\n",
      ">>>>>>>> EXECUTING CODE BLOCK 0 (inferred language is python)...\u001b[0m\n",
      "\u001b[33mExecutor\u001b[0m (to chat_manager):\n",
      "\n",
      "exitcode: 1 (execution failed)\n",
      "Code output: \n",
      "\n",
      "[*********************100%***********************]  1 of 1 completed\n",
      "Traceback (most recent call last):\n",
      "  File \"c:\\Users\\kiru79381\\source\\repos\\Autogen_AIAgent\\.venv\\lib\\site-packages\\pandas\\core\\indexes\\base.py\", line 3805, in get_loc\n",
      "    return self._engine.get_loc(casted_key)\n",
      "  File \"index.pyx\", line 167, in pandas._libs.index.IndexEngine.get_loc\n",
      "  File \"index.pyx\", line 196, in pandas._libs.index.IndexEngine.get_loc\n",
      "  File \"pandas\\\\_libs\\\\hashtable_class_helper.pxi\", line 7081, in pandas._libs.hashtable.PyObjectHashTable.get_item\n",
      "  File \"pandas\\\\_libs\\\\hashtable_class_helper.pxi\", line 7089, in pandas._libs.hashtable.PyObjectHashTable.get_item\n",
      "KeyError: 'Adj Close'\n",
      "\n",
      "The above exception was the direct cause of the following exception:\n",
      "\n",
      "Traceback (most recent call last):\n",
      "  File \"stock_data_analysis.py\", line 16, in <module>\n",
      "    stock_data['Daily Change (%)'] = stock_data['Adj Close'].pct_change() * 100\n",
      "  File \"c:\\Users\\kiru79381\\source\\repos\\Autogen_AIAgent\\.venv\\lib\\site-packages\\pandas\\core\\frame.py\", line 4101, in __getitem__\n",
      "    return self._getitem_multilevel(key)\n",
      "  File \"c:\\Users\\kiru79381\\source\\repos\\Autogen_AIAgent\\.venv\\lib\\site-packages\\pandas\\core\\frame.py\", line 4159, in _getitem_multilevel\n",
      "    loc = self.columns.get_loc(key)\n",
      "  File \"c:\\Users\\kiru79381\\source\\repos\\Autogen_AIAgent\\.venv\\lib\\site-packages\\pandas\\core\\indexes\\multi.py\", line 3040, in get_loc\n",
      "    loc = self._get_level_indexer(key, level=0)\n",
      "  File \"c:\\Users\\kiru79381\\source\\repos\\Autogen_AIAgent\\.venv\\lib\\site-packages\\pandas\\core\\indexes\\multi.py\", line 3391, in _get_level_indexer\n",
      "    idx = self._get_loc_single_level_index(level_index, key)\n",
      "  File \"c:\\Users\\kiru79381\\source\\repos\\Autogen_AIAgent\\.venv\\lib\\site-packages\\pandas\\core\\indexes\\multi.py\", line 2980, in _get_loc_single_level_index\n",
      "    return level_index.get_loc(key)\n",
      "  File \"c:\\Users\\kiru79381\\source\\repos\\Autogen_AIAgent\\.venv\\lib\\site-packages\\pandas\\core\\indexes\\base.py\", line 3812, in get_loc\n",
      "    raise KeyError(key) from err\n",
      "KeyError: 'Adj Close'\n",
      "\n",
      "\n",
      "--------------------------------------------------------------------------------\n",
      "\u001b[33mEngineer\u001b[0m (to chat_manager):\n",
      "\n",
      "It seems that there was an issue with the column name `Adj Close` which possibly doesn't exist in the fetched data. I will adjust the code to use the correct column name based on the actual data fetched from Yahoo Finance. Typically, the adjusted close column is labeled as `Adj Close`, but there might be cases where data is fetched differently or the API response format has changed.\n",
      "\n",
      "Here's the revised Python code which includes a check on the column names to make sure we are using the correct ones:\n",
      "\n",
      "```python\n",
      "# filename: stock_data_analysis.py\n",
      "import yfinance as yf\n",
      "import pandas as pd\n",
      "\n",
      "# Define the stock ticker symbol for Nvidia\n",
      "ticker_symbol = \"NVDA\"\n",
      "\n",
      "# Define the time period for which we need the data\n",
      "start_date = \"2024-03-23\"\n",
      "end_date = \"2024-04-23\"\n",
      "\n",
      "# Fetch the historical stock data\n",
      "stock_data = yf.download(ticker_symbol, start=start_date, end=end_date)\n",
      "\n",
      "# Correction for possible column name discrepancies\n",
      "adj_close_col = 'Adj Close' if 'Adj Close' in stock_data.columns else 'Close'\n",
      "\n",
      "# Calculate daily percentage change in the adjusted/close price\n",
      "stock_data['Daily Change (%)'] = stock_data[adj_close_col].pct_change() * 100\n",
      "\n",
      "# Summary statistics\n",
      "mean_volume = stock_data['Volume'].mean() if 'Volume' in stock_data.columns else 0\n",
      "closing_price_change = ((stock_data[adj_close_col][-1] - stock_data[adj_close_col][0]) / stock_data[adj_close_col][0]) * 100\n",
      "\n",
      "# Display the results\n",
      "print(\"Summary for Nvidia Stock from 2024-03-23 to 2024-04-23:\")\n",
      "print(stock_data[['Open', 'High', 'Low', 'Close', 'Volume', 'Daily Change (%)']])\n",
      "print(f\"Average daily trading volume: {mean_volume:.2f}\")\n",
      "print(f\"Percentage change in closing price over the period: {closing_price_change:.2f}%\")\n",
      "```\n",
      "\n",
      "This script now checks to ensure the correct column names are used and handles cases where certain expected columns might not be available (like Volume).\n",
      "\n",
      "Please run the adjusted script and share the results.\n",
      "\n",
      "--------------------------------------------------------------------------------\n",
      "\u001b[31m\n",
      ">>>>>>>> EXECUTING CODE BLOCK 0 (inferred language is python)...\u001b[0m\n",
      "\u001b[33mExecutor\u001b[0m (to chat_manager):\n",
      "\n",
      "exitcode: 1 (execution failed)\n",
      "Code output: \n",
      "\n",
      "[*********************100%***********************]  1 of 1 completed\n",
      "Traceback (most recent call last):\n",
      "  File \"c:\\Users\\kiru79381\\source\\repos\\Autogen_AIAgent\\.venv\\lib\\site-packages\\pandas\\core\\indexes\\base.py\", line 3805, in get_loc\n",
      "    return self._engine.get_loc(casted_key)\n",
      "  File \"index.pyx\", line 167, in pandas._libs.index.IndexEngine.get_loc\n",
      "  File \"index.pyx\", line 196, in pandas._libs.index.IndexEngine.get_loc\n",
      "  File \"pandas\\\\_libs\\\\hashtable_class_helper.pxi\", line 7081, in pandas._libs.hashtable.PyObjectHashTable.get_item\n",
      "  File \"pandas\\\\_libs\\\\hashtable_class_helper.pxi\", line 7089, in pandas._libs.hashtable.PyObjectHashTable.get_item\n",
      "KeyError: -1\n",
      "\n",
      "The above exception was the direct cause of the following exception:\n",
      "\n",
      "Traceback (most recent call last):\n",
      "  File \"stock_data_analysis.py\", line 23, in <module>\n",
      "    closing_price_change = ((stock_data[adj_close_col][-1] - stock_data[adj_close_col][0]) / stock_data[adj_close_col][0]) * 100\n",
      "  File \"c:\\Users\\kiru79381\\source\\repos\\Autogen_AIAgent\\.venv\\lib\\site-packages\\pandas\\core\\frame.py\", line 4102, in __getitem__\n",
      "    indexer = self.columns.get_loc(key)\n",
      "  File \"c:\\Users\\kiru79381\\source\\repos\\Autogen_AIAgent\\.venv\\lib\\site-packages\\pandas\\core\\indexes\\base.py\", line 3812, in get_loc\n",
      "    raise KeyError(key) from err\n",
      "KeyError: -1\n",
      "\n",
      "\n",
      "--------------------------------------------------------------------------------\n",
      "\u001b[33mEngineer\u001b[0m (to chat_manager):\n",
      "\n",
      "The error indicates a problem with accessing data using indexing (`-1`), which is typically used for last item access in a list-like structure in Python. However, this approach might not work directly with pandas DataFrame columns unless we use `.iloc` for such operations. This suggests there might be an issue with date indexing or an empty dataset.\n",
      "\n",
      "Let's adjust our approach to these indexes and also add diagnostics to investigate the actual data fetched:\n",
      "\n",
      "```python\n",
      "# filename: stock_data_analysis.py\n",
      "import yfinance as yf\n",
      "import pandas as pd\n",
      "\n",
      "# Define the stock ticker symbol for Nvidia\n",
      "ticker_symbol = \"NVDA\"\n",
      "\n",
      "# Define the time period for which we need the data\n",
      "start_date = \"2024-03-23\"\n",
      "end_date = \"2024-04-23\"\n",
      "\n",
      "# Fetch the historical stock data\n",
      "stock_data = yf.download(ticker_symbol, start=start_date, end=end_date)\n",
      "\n",
      "# Check if stock data is empty\n",
      "if stock_data.empty:\n",
      "    print(\"No data fetched for the specified dates.\")\n",
      "else:\n",
      "    # Use .iloc for safe access to first and last rows\n",
      "    first_adj_close = stock_data['Adj Close'].iloc[0]\n",
      "    last_adj_close = stock_data['Adj Close'].iloc[-1]\n",
      "\n",
      "    # Calculate daily percentage change in adjusted close price\n",
      "    stock_data['Daily Change (%)'] = stock_data['Adj Close'].pct_change() * 100\n",
      "\n",
      "    # Summary statistics\n",
      "    mean_volume = stock_data['Volume'].mean() if 'Volume' in stock_data.columns else 0\n",
      "    closing_price_change = ((last_adj_close - first_adj_close) / first_adj_close) * 100\n",
      "\n",
      "    # Display the results\n",
      "    print(\"Summary for Nvidia Stock from 2024-03-23 to 2024-04-23:\")\n",
      "    print(stock_data[['Open', 'High', 'Low', 'Close', 'Volume', 'Daily Change (%)']])\n",
      "    print(f\"Average daily trading volume: {mean_volume:.2f}\")\n",
      "    print(f\"Percentage change in closing price over the period: {closing_price_change:.2f}%\")\n",
      "```\n",
      "\n",
      "This script now uses `.iloc` for index-based access and adds a check to see if the data is empty. This should resolve the index error and provide a more robust method of handling unexpected data or empty responses from the API.\n",
      "\n",
      "Please run this corrected script, and share the updated results.\n",
      "\n",
      "--------------------------------------------------------------------------------\n",
      "\u001b[31m\n",
      ">>>>>>>> EXECUTING CODE BLOCK 0 (inferred language is python)...\u001b[0m\n",
      "\u001b[33mExecutor\u001b[0m (to chat_manager):\n",
      "\n",
      "exitcode: 1 (execution failed)\n",
      "Code output: \n",
      "\n",
      "[*********************100%***********************]  1 of 1 completed\n",
      "Traceback (most recent call last):\n",
      "  File \"c:\\Users\\kiru79381\\source\\repos\\Autogen_AIAgent\\.venv\\lib\\site-packages\\pandas\\core\\indexes\\base.py\", line 3805, in get_loc\n",
      "    return self._engine.get_loc(casted_key)\n",
      "  File \"index.pyx\", line 167, in pandas._libs.index.IndexEngine.get_loc\n",
      "  File \"index.pyx\", line 196, in pandas._libs.index.IndexEngine.get_loc\n",
      "  File \"pandas\\\\_libs\\\\hashtable_class_helper.pxi\", line 7081, in pandas._libs.hashtable.PyObjectHashTable.get_item\n",
      "  File \"pandas\\\\_libs\\\\hashtable_class_helper.pxi\", line 7089, in pandas._libs.hashtable.PyObjectHashTable.get_item\n",
      "KeyError: 'Adj Close'\n",
      "\n",
      "The above exception was the direct cause of the following exception:\n",
      "\n",
      "Traceback (most recent call last):\n",
      "  File \"stock_data_analysis.py\", line 20, in <module>\n",
      "    first_adj_close = stock_data['Adj Close'].iloc[0]\n",
      "  File \"c:\\Users\\kiru79381\\source\\repos\\Autogen_AIAgent\\.venv\\lib\\site-packages\\pandas\\core\\frame.py\", line 4101, in __getitem__\n",
      "    return self._getitem_multilevel(key)\n",
      "  File \"c:\\Users\\kiru79381\\source\\repos\\Autogen_AIAgent\\.venv\\lib\\site-packages\\pandas\\core\\frame.py\", line 4159, in _getitem_multilevel\n",
      "    loc = self.columns.get_loc(key)\n",
      "  File \"c:\\Users\\kiru79381\\source\\repos\\Autogen_AIAgent\\.venv\\lib\\site-packages\\pandas\\core\\indexes\\multi.py\", line 3040, in get_loc\n",
      "    loc = self._get_level_indexer(key, level=0)\n",
      "  File \"c:\\Users\\kiru79381\\source\\repos\\Autogen_AIAgent\\.venv\\lib\\site-packages\\pandas\\core\\indexes\\multi.py\", line 3391, in _get_level_indexer\n",
      "    idx = self._get_loc_single_level_index(level_index, key)\n",
      "  File \"c:\\Users\\kiru79381\\source\\repos\\Autogen_AIAgent\\.venv\\lib\\site-packages\\pandas\\core\\indexes\\multi.py\", line 2980, in _get_loc_single_level_index\n",
      "    return level_index.get_loc(key)\n",
      "  File \"c:\\Users\\kiru79381\\source\\repos\\Autogen_AIAgent\\.venv\\lib\\site-packages\\pandas\\core\\indexes\\base.py\", line 3812, in get_loc\n",
      "    raise KeyError(key) from err\n",
      "KeyError: 'Adj Close'\n",
      "\n",
      "\n",
      "--------------------------------------------------------------------------------\n",
      "\u001b[33mEngineer\u001b[0m (to chat_manager):\n",
      "\n",
      "The repeated issue with accessing the `'Adj Close'` column, despite our conditional checks, suggests that this column may be missing from the data fetched. This is an unusual circumstance as this column is generally standard in stock price datasets from Yahoo Finance.\n",
      "\n",
      "We will verify the column names present in the fetched `DataFrame` to understand what data we are actually receiving.\n",
      "\n",
      "Here's a Python script to print the column names and data head for Nvidia's stock prices. This will help us understand the structure of the data being returned:\n",
      "\n",
      "```python\n",
      "# filename: check_stock_data_columns.py\n",
      "import yfinance as yf\n",
      "\n",
      "# Define the stock ticker symbol for Nvidia\n",
      "ticker_symbol = \"NVDA\"\n",
      "\n",
      "# Define the time period for which we need the data\n",
      "start_date = \"2024-03-23\"\n",
      "end_date = \"2024-04-23\"\n",
      "\n",
      "# Fetch the historical stock data\n",
      "stock_data = yf.download(ticker_symbol, start=start_date, end=end_date)\n",
      "\n",
      "# Print the column names and the first few rows of the data\n",
      "print(\"Column names in the fetched data:\")\n",
      "print(stock_data.columns)\n",
      "print(\"\\nFirst few rows of data:\")\n",
      "print(stock_data.head())\n",
      "```\n",
      "\n",
      "Please run this script to print the column names and sample rows from the data to diagnose the issue with the data structure and to make necessary adjustments to the original script.\n",
      "\n",
      "--------------------------------------------------------------------------------\n",
      "\u001b[31m\n",
      ">>>>>>>> EXECUTING CODE BLOCK 0 (inferred language is python)...\u001b[0m\n",
      "\u001b[33mExecutor\u001b[0m (to chat_manager):\n",
      "\n",
      "exitcode: 0 (execution succeeded)\n",
      "Code output: \n",
      "Column names in the fetched data:\n",
      "MultiIndex([( 'Close', 'NVDA'),\n",
      "            (  'High', 'NVDA'),\n",
      "            (   'Low', 'NVDA'),\n",
      "            (  'Open', 'NVDA'),\n",
      "            ('Volume', 'NVDA')],\n",
      "           names=['Price', 'Ticker'])\n",
      "\n",
      "First few rows of data:\n",
      "Price           Close       High        Low       Open     Volume\n",
      "Ticker           NVDA       NVDA       NVDA       NVDA       NVDA\n",
      "Date                                                             \n",
      "2024-03-25  94.979523  96.743105  93.487879  93.918777  552136000\n",
      "2024-03-26  92.539101  96.352201  92.480116  95.828323  513648000\n",
      "2024-03-27  90.228645  93.217936  89.101913  93.089968  586067000\n",
      "2024-03-28  90.334625  91.278402  89.171898  89.978707  435212000\n",
      "2024-04-01  90.341621  92.203180  89.182899  90.277641  452441000\n",
      "\n",
      "\n",
      "--------------------------------------------------------------------------------\n"
     ]
    }
   ],
   "source": [
    "groupchat_result = user_proxy.initiate_chat(\n",
    "    manager,\n",
    "    message=task,\n",
    ")"
   ]
  },
  {
   "cell_type": "markdown",
   "id": "ba5d14b6",
   "metadata": {},
   "source": [
    "## Add a speaker selection policy"
   ]
  },
  {
   "cell_type": "code",
   "execution_count": null,
   "id": "c17e5a76-3c40-4e2a-b8f1-378f901f5b74",
   "metadata": {
    "height": 965
   },
   "outputs": [],
   "source": [
    "user_proxy = autogen.ConversableAgent(\n",
    "    name=\"Admin\",\n",
    "    system_message=\"Give the task, and send \"\n",
    "    \"instructions to writer to refine the blog post.\",\n",
    "    code_execution_config=False,\n",
    "    llm_config=llm_config,\n",
    "    human_input_mode=\"ALWAYS\",\n",
    ")\n",
    "\n",
    "planner = autogen.ConversableAgent(\n",
    "    name=\"Planner\",\n",
    "    system_message=\"Given a task, please determine \"\n",
    "    \"what information is needed to complete the task. \"\n",
    "    \"Please note that the information will all be retrieved using\"\n",
    "    \" Python code. Please only suggest information that can be \"\n",
    "    \"retrieved using Python code. \"\n",
    "    \"After each step is done by others, check the progress and \"\n",
    "    \"instruct the remaining steps. If a step fails, try to \"\n",
    "    \"workaround\",\n",
    "    description=\"Given a task, determine what \"\n",
    "    \"information is needed to complete the task. \"\n",
    "    \"After each step is done by others, check the progress and \"\n",
    "    \"instruct the remaining steps\",\n",
    "    llm_config=llm_config,\n",
    ")\n",
    "\n",
    "engineer = autogen.AssistantAgent(\n",
    "    name=\"Engineer\",\n",
    "    llm_config=llm_config,\n",
    "    description=\"Write code based on the plan \"\n",
    "    \"provided by the planner.\",\n",
    ")\n",
    "\n",
    "writer = autogen.ConversableAgent(\n",
    "    name=\"Writer\",\n",
    "    llm_config=llm_config,\n",
    "    system_message=\"Writer. \"\n",
    "    \"Please write blogs in markdown format (with relevant titles)\"\n",
    "    \" and put the content in pseudo ```md``` code block. \"\n",
    "    \"You take feedback from the admin and refine your blog.\",\n",
    "    description=\"After all the info is available, \"\n",
    "    \"write blogs based on the code execution results and take \"\n",
    "    \"feedback from the admin to refine the blog. \",\n",
    ")\n",
    "\n",
    "executor = autogen.ConversableAgent(\n",
    "    name=\"Executor\",\n",
    "    description=\"Execute the code written by the \"\n",
    "    \"engineer and report the result.\",\n",
    "    human_input_mode=\"NEVER\",\n",
    "    code_execution_config={\n",
    "        \"last_n_messages\": 3,\n",
    "        \"work_dir\": \"coding\",\n",
    "        \"use_docker\": False,\n",
    "    },\n",
    ")"
   ]
  },
  {
   "cell_type": "code",
   "execution_count": null,
   "id": "d1ea0a1b-78f9-4be3-9479-228d6e679268",
   "metadata": {
    "height": 234
   },
   "outputs": [],
   "source": [
    "groupchat = autogen.GroupChat(\n",
    "    agents=[user_proxy, engineer, writer, executor, planner],\n",
    "    messages=[],\n",
    "    max_round=10,\n",
    "    allowed_or_disallowed_speaker_transitions={\n",
    "        user_proxy: [engineer, writer, executor, planner],\n",
    "        engineer: [user_proxy, executor],\n",
    "        writer: [user_proxy, planner],\n",
    "        executor: [user_proxy, engineer, planner],\n",
    "        planner: [user_proxy, engineer, writer],\n",
    "    },\n",
    "    speaker_transitions_type=\"allowed\",\n",
    ")"
   ]
  },
  {
   "cell_type": "code",
   "execution_count": null,
   "id": "a62255bb-644f-4af6-a640-08297e55de45",
   "metadata": {
    "height": 149
   },
   "outputs": [],
   "source": [
    "manager = autogen.GroupChatManager(\n",
    "    groupchat=groupchat, llm_config=llm_config\n",
    ")\n",
    "\n",
    "groupchat_result = user_proxy.initiate_chat(\n",
    "    manager,\n",
    "    message=task,\n",
    ")"
   ]
  },
  {
   "cell_type": "markdown",
   "id": "e738fd8b",
   "metadata": {},
   "source": [
    "**Note**: You might experience slightly different interactions between the agents. The engineer agent may write incorrect code, which the executor agent will report and send back for correction. This process could go through multiple rounds."
   ]
  }
 ],
 "metadata": {
  "kernelspec": {
   "display_name": ".venv",
   "language": "python",
   "name": "python3"
  },
  "language_info": {
   "codemirror_mode": {
    "name": "ipython",
    "version": 3
   },
   "file_extension": ".py",
   "mimetype": "text/x-python",
   "name": "python",
   "nbconvert_exporter": "python",
   "pygments_lexer": "ipython3",
   "version": "3.10.11"
  }
 },
 "nbformat": 4,
 "nbformat_minor": 5
}
