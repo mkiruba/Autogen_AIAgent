{
 "cells": [
  {
   "cell_type": "markdown",
   "id": "fc3024e2",
   "metadata": {},
   "source": [
    "# Lesson 3: Reflection and Blogpost Writing"
   ]
  },
  {
   "cell_type": "markdown",
   "id": "3b0cc42f",
   "metadata": {},
   "source": [
    "## Setup"
   ]
  },
  {
   "cell_type": "code",
   "execution_count": 3,
   "id": "96d39be0-eaf3-456d-8613-ba21099ed36b",
   "metadata": {
    "height": 30
   },
   "outputs": [],
   "source": [
    "llm_config = {\"model\": \"gpt-3.5-turbo\"}"
   ]
  },
  {
   "cell_type": "markdown",
   "id": "0969e6bb",
   "metadata": {},
   "source": [
    "## The task!"
   ]
  },
  {
   "cell_type": "code",
   "execution_count": 4,
   "id": "e8074032-3690-4de9-ad08-ea8323cb441b",
   "metadata": {
    "height": 115
   },
   "outputs": [],
   "source": [
    "task = '''\n",
    "        Write a concise but engaging blogpost about\n",
    "       DeepLearning.AI. Make sure the blogpost is\n",
    "       within 100 words.\n",
    "       '''\n"
   ]
  },
  {
   "cell_type": "markdown",
   "id": "1987f023",
   "metadata": {},
   "source": [
    "## Create a writer agent"
   ]
  },
  {
   "cell_type": "code",
   "execution_count": 5,
   "id": "fe0f0a47-a9fe-43a0-b7b1-79922e4c4ac8",
   "metadata": {
    "height": 200
   },
   "outputs": [
    {
     "name": "stdout",
     "output_type": "stream",
     "text": [
      "[autogen.oai.client: 02-10 20:21:31] {129} WARNING - The API key specified is not a valid OpenAI format; it won't work with the OpenAI-hosted model.\n"
     ]
    }
   ],
   "source": [
    "import autogen\n",
    "\n",
    "writer = autogen.AssistantAgent(\n",
    "    name=\"Writer\",\n",
    "    system_message=\"You are a writer. You write engaging and concise \" \n",
    "        \"blogpost (with title) on given topics. You must polish your \"\n",
    "        \"writing based on the feedback you receive and give a refined \"\n",
    "        \"version. Only return your final work without additional comments.\",\n",
    "    llm_config=llm_config,\n",
    ")"
   ]
  },
  {
   "cell_type": "code",
   "execution_count": 6,
   "id": "7c7b4d8d-40f7-4a05-8958-25d20054de3a",
   "metadata": {
    "height": 47
   },
   "outputs": [],
   "source": [
    "reply = writer.generate_reply(messages=[{\"content\": task, \"role\": \"user\"}])"
   ]
  },
  {
   "cell_type": "code",
   "execution_count": 7,
   "id": "c501c97d-e338-4f36-a384-6ec45983cf77",
   "metadata": {
    "height": 30
   },
   "outputs": [
    {
     "name": "stdout",
     "output_type": "stream",
     "text": [
      "Title: Unleashing the Power of Deep Learning with DeepLearning.AI\n",
      "\n",
      "Delve into the world of artificial intelligence and unlock its limitless potential with DeepLearning.AI. Offering top-notch courses created by industry expert Andrew Ng, this platform equips learners with the skills needed to master deep learning. From computer vision to natural language processing, DeepLearning.AI covers it all in a user-friendly and engaging manner. Elevate your knowledge and stay ahead in this rapidly evolving field. Whether you're a beginner or an experienced professional, DeepLearning.AI provides the resources to help you thrive. Join the community today and embark on a journey towards AI mastery.\n"
     ]
    }
   ],
   "source": [
    "print(reply)"
   ]
  },
  {
   "cell_type": "markdown",
   "id": "49658114",
   "metadata": {},
   "source": [
    "## Adding reflection \n",
    "\n",
    "Create a critic agent to reflect on the work of the writer agent."
   ]
  },
  {
   "cell_type": "code",
   "execution_count": 8,
   "id": "c7fcd1c7-51ec-4915-8e97-bac03565c4c7",
   "metadata": {
    "height": 166
   },
   "outputs": [
    {
     "name": "stdout",
     "output_type": "stream",
     "text": [
      "[autogen.oai.client: 02-10 20:26:38] {129} WARNING - The API key specified is not a valid OpenAI format; it won't work with the OpenAI-hosted model.\n"
     ]
    }
   ],
   "source": [
    "critic = autogen.AssistantAgent(\n",
    "    name=\"Critic\",\n",
    "    is_termination_msg=lambda x: x.get(\"content\", \"\").find(\"TERMINATE\") >= 0,\n",
    "    llm_config=llm_config,\n",
    "    system_message=\"You are a critic. You review the work of \"\n",
    "                \"the writer and provide constructive \"\n",
    "                \"feedback to help improve the quality of the content.\",\n",
    ")"
   ]
  },
  {
   "cell_type": "code",
   "execution_count": 9,
   "id": "899d5fdb-6081-470b-b287-8cf8b8142d0d",
   "metadata": {
    "height": 115
   },
   "outputs": [
    {
     "name": "stdout",
     "output_type": "stream",
     "text": [
      "\u001b[33mCritic\u001b[0m (to Writer):\n",
      "\n",
      "\n",
      "        Write a concise but engaging blogpost about\n",
      "       DeepLearning.AI. Make sure the blogpost is\n",
      "       within 100 words.\n",
      "       \n",
      "\n",
      "--------------------------------------------------------------------------------\n",
      "\u001b[33mWriter\u001b[0m (to Critic):\n",
      "\n",
      "Title: Unleashing the Power of Deep Learning with DeepLearning.AI\n",
      "\n",
      "Delve into the world of artificial intelligence and unlock its limitless potential with DeepLearning.AI. Offering top-notch courses created by industry expert Andrew Ng, this platform equips learners with the skills needed to master deep learning. From computer vision to natural language processing, DeepLearning.AI covers it all in a user-friendly and engaging manner. Elevate your knowledge and stay ahead in this rapidly evolving field. Whether you're a beginner or an experienced professional, DeepLearning.AI provides the resources to help you thrive. Join the community today and embark on a journey towards AI mastery.\n",
      "\n",
      "--------------------------------------------------------------------------------\n",
      "\u001b[33mCritic\u001b[0m (to Writer):\n",
      "\n",
      "Feedback:\n",
      "1. The title is attention-grabbing and sets the tone for the blog post.\n",
      "2. The content is informative and highlights the key features of DeepLearning.AI.\n",
      "3. Consider adding specific examples or testimonials to showcase the effectiveness of the platform.\n",
      "4. Try to incorporate more descriptive language to create a vivid picture for the readers.\n",
      "5. End the post with a strong call-to-action to encourage readers to take action.\n",
      "\n",
      "--------------------------------------------------------------------------------\n",
      "\u001b[33mWriter\u001b[0m (to Critic):\n",
      "\n",
      "Title: Mastering Deep Learning: Your Path with DeepLearning.AI\n",
      "\n",
      "Dive into the realm of artificial intelligence and unleash its boundless potential through DeepLearning.AI. Created by industry luminary Andrew Ng, this platform offers dynamic courses to sharpen your deep learning skills. Whether delving into computer vision or mastering natural language processing, DeepLearning.AI stands as your comprehensive guide. Elevate your expertise in this dynamic field with a vibrant community of learners. Let success stories and glowing testimonials inspire your journey towards AI prowess. Seize this opportunity to propel your career and become a frontrunner in tech. Enroll now and chart your course to AI excellence.\n",
      "\n",
      "--------------------------------------------------------------------------------\n"
     ]
    }
   ],
   "source": [
    "res = critic.initiate_chat(\n",
    "    recipient=writer,\n",
    "    message=task,\n",
    "    max_turns=2,\n",
    "    summary_method=\"last_msg\"\n",
    ")"
   ]
  },
  {
   "cell_type": "markdown",
   "id": "e7b76449",
   "metadata": {},
   "source": [
    "## Nested chat"
   ]
  },
  {
   "cell_type": "code",
   "execution_count": 10,
   "id": "401ecf92-63e9-40ff-aeed-1c404352e4ab",
   "metadata": {
    "height": 217
   },
   "outputs": [
    {
     "name": "stdout",
     "output_type": "stream",
     "text": [
      "[autogen.oai.client: 02-10 20:28:05] {129} WARNING - The API key specified is not a valid OpenAI format; it won't work with the OpenAI-hosted model.\n"
     ]
    }
   ],
   "source": [
    "SEO_reviewer = autogen.AssistantAgent(\n",
    "    name=\"SEO Reviewer\",\n",
    "    llm_config=llm_config,\n",
    "    system_message=\"You are an SEO reviewer, known for \"\n",
    "        \"your ability to optimize content for search engines, \"\n",
    "        \"ensuring that it ranks well and attracts organic traffic. \" \n",
    "        \"Make sure your suggestion is concise (within 3 bullet points), \"\n",
    "        \"concrete and to the point. \"\n",
    "        \"Begin the review by stating your role.\",\n",
    ")\n"
   ]
  },
  {
   "cell_type": "code",
   "execution_count": 11,
   "id": "f85acb81-7ab9-4c84-b8bb-6fbae3dce848",
   "metadata": {
    "height": 200
   },
   "outputs": [
    {
     "name": "stdout",
     "output_type": "stream",
     "text": [
      "[autogen.oai.client: 02-10 20:28:08] {129} WARNING - The API key specified is not a valid OpenAI format; it won't work with the OpenAI-hosted model.\n"
     ]
    }
   ],
   "source": [
    "legal_reviewer = autogen.AssistantAgent(\n",
    "    name=\"Legal Reviewer\",\n",
    "    llm_config=llm_config,\n",
    "    system_message=\"You are a legal reviewer, known for \"\n",
    "        \"your ability to ensure that content is legally compliant \"\n",
    "        \"and free from any potential legal issues. \"\n",
    "        \"Make sure your suggestion is concise (within 3 bullet points), \"\n",
    "        \"concrete and to the point. \"\n",
    "        \"Begin the review by stating your role.\",\n",
    ")"
   ]
  },
  {
   "cell_type": "code",
   "execution_count": 12,
   "id": "d46a177a-8088-4956-8d2b-3e916b8ca5e9",
   "metadata": {
    "height": 200
   },
   "outputs": [
    {
     "name": "stdout",
     "output_type": "stream",
     "text": [
      "[autogen.oai.client: 02-10 20:28:10] {129} WARNING - The API key specified is not a valid OpenAI format; it won't work with the OpenAI-hosted model.\n"
     ]
    }
   ],
   "source": [
    "ethics_reviewer = autogen.AssistantAgent(\n",
    "    name=\"Ethics Reviewer\",\n",
    "    llm_config=llm_config,\n",
    "    system_message=\"You are an ethics reviewer, known for \"\n",
    "        \"your ability to ensure that content is ethically sound \"\n",
    "        \"and free from any potential ethical issues. \" \n",
    "        \"Make sure your suggestion is concise (within 3 bullet points), \"\n",
    "        \"concrete and to the point. \"\n",
    "        \"Begin the review by stating your role. \",\n",
    ")"
   ]
  },
  {
   "cell_type": "code",
   "execution_count": 13,
   "id": "a7b2ad6f-8ba6-436a-9459-14ffbe8a32d3",
   "metadata": {
    "height": 132
   },
   "outputs": [
    {
     "name": "stdout",
     "output_type": "stream",
     "text": [
      "[autogen.oai.client: 02-10 20:28:23] {129} WARNING - The API key specified is not a valid OpenAI format; it won't work with the OpenAI-hosted model.\n"
     ]
    }
   ],
   "source": [
    "meta_reviewer = autogen.AssistantAgent(\n",
    "    name=\"Meta Reviewer\",\n",
    "    llm_config=llm_config,\n",
    "    system_message=\"You are a meta reviewer, you aggragate and review \"\n",
    "    \"the work of other reviewers and give a final suggestion on the content.\",\n",
    ")"
   ]
  },
  {
   "cell_type": "markdown",
   "id": "913beca1",
   "metadata": {},
   "source": [
    "## Orchestrate the nested chats to solve the task"
   ]
  },
  {
   "cell_type": "code",
   "execution_count": 14,
   "id": "a11a70c7-19ca-4e5a-ad3d-f2b481fb5915",
   "metadata": {
    "height": 557
   },
   "outputs": [],
   "source": [
    "def reflection_message(recipient, messages, sender, config):\n",
    "    return f'''Review the following content. \n",
    "            \\n\\n {recipient.chat_messages_for_summary(sender)[-1]['content']}'''\n",
    "\n",
    "review_chats = [\n",
    "    {\n",
    "     \"recipient\": SEO_reviewer, \n",
    "     \"message\": reflection_message, \n",
    "     \"summary_method\": \"reflection_with_llm\",\n",
    "     \"summary_args\": {\"summary_prompt\" : \n",
    "        \"Return review into as JSON object only:\"\n",
    "        \"{'Reviewer': '', 'Review': ''}. Here Reviewer should be your role\",},\n",
    "     \"max_turns\": 1},\n",
    "    {\n",
    "    \"recipient\": legal_reviewer, \"message\": reflection_message, \n",
    "     \"summary_method\": \"reflection_with_llm\",\n",
    "     \"summary_args\": {\"summary_prompt\" : \n",
    "        \"Return review into as JSON object only:\"\n",
    "        \"{'Reviewer': '', 'Review': ''}.\",},\n",
    "     \"max_turns\": 1},\n",
    "    {\"recipient\": ethics_reviewer, \"message\": reflection_message, \n",
    "     \"summary_method\": \"reflection_with_llm\",\n",
    "     \"summary_args\": {\"summary_prompt\" : \n",
    "        \"Return review into as JSON object only:\"\n",
    "        \"{'reviewer': '', 'review': ''}\",},\n",
    "     \"max_turns\": 1},\n",
    "     {\"recipient\": meta_reviewer, \n",
    "      \"message\": \"Aggregrate feedback from all reviewers and give final suggestions on the writing.\", \n",
    "     \"max_turns\": 1},\n",
    "]\n"
   ]
  },
  {
   "cell_type": "code",
   "execution_count": 15,
   "id": "b3a40b66-5061-460d-ad9d-c0dbcfbba2e9",
   "metadata": {
    "height": 81
   },
   "outputs": [],
   "source": [
    "critic.register_nested_chats(\n",
    "    review_chats,\n",
    "    trigger=writer,\n",
    ")"
   ]
  },
  {
   "cell_type": "markdown",
   "id": "43b8797d",
   "metadata": {},
   "source": [
    "**Note**: You might get a slightly different response than what's shown in the video. Feel free to try different task."
   ]
  },
  {
   "cell_type": "code",
   "execution_count": 16,
   "id": "3b8dcac3-1e72-43b7-9d5a-1be740f6efd5",
   "metadata": {
    "height": 115
   },
   "outputs": [
    {
     "name": "stdout",
     "output_type": "stream",
     "text": [
      "\u001b[33mCritic\u001b[0m (to Writer):\n",
      "\n",
      "\n",
      "        Write a concise but engaging blogpost about\n",
      "       DeepLearning.AI. Make sure the blogpost is\n",
      "       within 100 words.\n",
      "       \n",
      "\n",
      "--------------------------------------------------------------------------------\n",
      "\u001b[33mWriter\u001b[0m (to Critic):\n",
      "\n",
      "Title: Unleashing the Power of Deep Learning with DeepLearning.AI\n",
      "\n",
      "Delve into the world of artificial intelligence and unlock its limitless potential with DeepLearning.AI. Offering top-notch courses created by industry expert Andrew Ng, this platform equips learners with the skills needed to master deep learning. From computer vision to natural language processing, DeepLearning.AI covers it all in a user-friendly and engaging manner. Elevate your knowledge and stay ahead in this rapidly evolving field. Whether you're a beginner or an experienced professional, DeepLearning.AI provides the resources to help you thrive. Join the community today and embark on a journey towards AI mastery.\n",
      "\n",
      "--------------------------------------------------------------------------------\n",
      "\u001b[34m\n",
      "********************************************************************************\u001b[0m\n",
      "\u001b[34mStarting a new chat....\u001b[0m\n",
      "\u001b[34m\n",
      "********************************************************************************\u001b[0m\n",
      "\u001b[33mCritic\u001b[0m (to SEO Reviewer):\n",
      "\n",
      "Review the following content. \n",
      "            \n",
      "\n",
      " Title: Unleashing the Power of Deep Learning with DeepLearning.AI\n",
      "\n",
      "Delve into the world of artificial intelligence and unlock its limitless potential with DeepLearning.AI. Offering top-notch courses created by industry expert Andrew Ng, this platform equips learners with the skills needed to master deep learning. From computer vision to natural language processing, DeepLearning.AI covers it all in a user-friendly and engaging manner. Elevate your knowledge and stay ahead in this rapidly evolving field. Whether you're a beginner or an experienced professional, DeepLearning.AI provides the resources to help you thrive. Join the community today and embark on a journey towards AI mastery.\n",
      "\n",
      "--------------------------------------------------------------------------------\n",
      "\u001b[33mSEO Reviewer\u001b[0m (to Critic):\n",
      "\n",
      "As an SEO reviewer:\n",
      "\n",
      "1. Consider adding specific keywords related to deep learning, artificial intelligence, and online courses to boost search engine visibility. For example, phrases like \"deep learning courses,\" \"artificial intelligence training,\" and \"machine learning programs\" can help attract relevant organic traffic.\n",
      "\n",
      "2. Include a meta title and description that accurately reflect the content and incorporate primary keywords. This can improve click-through rates from search results and enhance the overall SEO performance of the webpage.\n",
      "\n",
      "3. Utilize internal linking within the content to guide users to other relevant pages on the website, enhancing user experience and potentially improving rankings. For instance, linking to specific course pages or instructor profiles can help increase website engagement and authority.\n",
      "\n",
      "--------------------------------------------------------------------------------\n",
      "\u001b[34m\n",
      "********************************************************************************\u001b[0m\n",
      "\u001b[34mStarting a new chat....\u001b[0m\n",
      "\u001b[34m\n",
      "********************************************************************************\u001b[0m\n",
      "\u001b[33mCritic\u001b[0m (to Legal Reviewer):\n",
      "\n",
      "Review the following content. \n",
      "            \n",
      "\n",
      " Title: Unleashing the Power of Deep Learning with DeepLearning.AI\n",
      "\n",
      "Delve into the world of artificial intelligence and unlock its limitless potential with DeepLearning.AI. Offering top-notch courses created by industry expert Andrew Ng, this platform equips learners with the skills needed to master deep learning. From computer vision to natural language processing, DeepLearning.AI covers it all in a user-friendly and engaging manner. Elevate your knowledge and stay ahead in this rapidly evolving field. Whether you're a beginner or an experienced professional, DeepLearning.AI provides the resources to help you thrive. Join the community today and embark on a journey towards AI mastery.\n",
      "Context: \n",
      "{'Reviewer': 'SEO Specialist', 'Review': 'Consider adding specific keywords related to deep learning, artificial intelligence, and online courses to boost search engine visibility. Include a meta title and description that accurately reflect the content and incorporate primary keywords. Utilize internal linking within the content to guide users to other relevant pages on the website.'}\n",
      "\n",
      "--------------------------------------------------------------------------------\n",
      "\u001b[33mLegal Reviewer\u001b[0m (to Critic):\n",
      "\n",
      "As a Legal Reviewer:\n",
      "\n",
      "1. Ensure compliance with truth-in-advertising laws by substantiating any claims made regarding the effectiveness or benefits of the courses offered by DeepLearning.AI.\n",
      "2. Review and confirm that the use of the term \"master deep learning\" does not imply any false advertising or misrepresentation of the outcomes achievable by users.\n",
      "3. Verify that any statements regarding the platform's benefits or results align with applicable consumer protection laws to avoid potential misleading practices.\n",
      "\n",
      "--------------------------------------------------------------------------------\n",
      "\u001b[34m\n",
      "********************************************************************************\u001b[0m\n",
      "\u001b[34mStarting a new chat....\u001b[0m\n",
      "\u001b[34m\n",
      "********************************************************************************\u001b[0m\n",
      "\u001b[33mCritic\u001b[0m (to Ethics Reviewer):\n",
      "\n",
      "Review the following content. \n",
      "            \n",
      "\n",
      " Title: Unleashing the Power of Deep Learning with DeepLearning.AI\n",
      "\n",
      "Delve into the world of artificial intelligence and unlock its limitless potential with DeepLearning.AI. Offering top-notch courses created by industry expert Andrew Ng, this platform equips learners with the skills needed to master deep learning. From computer vision to natural language processing, DeepLearning.AI covers it all in a user-friendly and engaging manner. Elevate your knowledge and stay ahead in this rapidly evolving field. Whether you're a beginner or an experienced professional, DeepLearning.AI provides the resources to help you thrive. Join the community today and embark on a journey towards AI mastery.\n",
      "Context: \n",
      "{'Reviewer': 'SEO Specialist', 'Review': 'Consider adding specific keywords related to deep learning, artificial intelligence, and online courses to boost search engine visibility. Include a meta title and description that accurately reflect the content and incorporate primary keywords. Utilize internal linking within the content to guide users to other relevant pages on the website.'}\n",
      "{'Reviewer': 'SEO Specialist', 'Review': 'Consider adding specific keywords related to deep learning, artificial intelligence, and online courses to boost search engine visibility. Include a meta title and description that accurately reflect the content and incorporate primary keywords. Utilize internal linking within the content to guide users to other relevant pages on the website.'}\n",
      "\n",
      "--------------------------------------------------------------------------------\n",
      "\u001b[33mEthics Reviewer\u001b[0m (to Critic):\n",
      "\n",
      "As an ethics reviewer, I would like to provide the following feedback:\n",
      "\n",
      "1. Ensure transparency: Disclose any affiliations or partnerships with DeepLearning.AI to maintain transparency and avoid potential conflicts of interest.\n",
      "   \n",
      "2. Avoid misleading claims: Verify the accuracy of claims related to the courses offered, ensuring they are substantiated to prevent misleading potential learners.\n",
      "   \n",
      "3. Respect user privacy: Clearly outline how user data is collected, stored, and used on the platform to uphold user privacy rights and trust.\n",
      "\n",
      "--------------------------------------------------------------------------------\n",
      "\u001b[34m\n",
      "********************************************************************************\u001b[0m\n",
      "\u001b[34mStarting a new chat....\u001b[0m\n",
      "\u001b[34m\n",
      "********************************************************************************\u001b[0m\n",
      "\u001b[33mCritic\u001b[0m (to Meta Reviewer):\n",
      "\n",
      "Aggregrate feedback from all reviewers and give final suggestions on the writing.\n",
      "Context: \n",
      "{'Reviewer': 'SEO Specialist', 'Review': 'Consider adding specific keywords related to deep learning, artificial intelligence, and online courses to boost search engine visibility. Include a meta title and description that accurately reflect the content and incorporate primary keywords. Utilize internal linking within the content to guide users to other relevant pages on the website.'}\n",
      "{'Reviewer': 'SEO Specialist', 'Review': 'Consider adding specific keywords related to deep learning, artificial intelligence, and online courses to boost search engine visibility. Include a meta title and description that accurately reflect the content and incorporate primary keywords. Utilize internal linking within the content to guide users to other relevant pages on the website.'}\n",
      "{'reviewer': 'Ethics Reviewer', 'review': 'Ensure transparency by disclosing any affiliations with DeepLearning.AI. Avoid misleading claims by verifying the accuracy of course offerings. Respect user privacy by clearly outlining data practices.'}\n",
      "\n",
      "--------------------------------------------------------------------------------\n",
      "\u001b[33mMeta Reviewer\u001b[0m (to Critic):\n",
      "\n",
      "After aggregating the feedback from the reviewers, it is clear that there are some key points to consider for the writing:\n",
      "\n",
      "1. **SEO Optimization**: The SEO specialists have emphasized the importance of incorporating specific keywords related to deep learning, artificial intelligence, and online courses. Additionally, they recommend including a meta title and description that accurately reflect the content and incorporate primary keywords. Utilizing internal linking within the content is also suggested to guide users to other relevant pages on the website.\n",
      "\n",
      "2. **Transparency and Ethics**: The ethics reviewer has highlighted the importance of transparency, particularly when disclosing any affiliations with DeepLearning.AI. They stress the need to avoid misleading claims by verifying the accuracy of course offerings. Additionally, respecting user privacy by clearly outlining data practices is crucial.\n",
      "\n",
      "**Final Suggestions**:\n",
      "- Incorporate specific keywords related to deep learning, artificial intelligence, and online courses for SEO purposes.\n",
      "- Create a meta title and description that accurately represent the content and include primary keywords.\n",
      "- Implement internal linking within the content to enhance user navigation.\n",
      "- Ensure transparency by disclosing any affiliations with DeepLearning.AI.\n",
      "- Verify the accuracy of course offerings to avoid misleading claims.\n",
      "- Clearly outline data practices to respect user privacy.\n",
      "\n",
      "In conclusion, by addressing the suggestions provided by both the SEO specialists and the ethics reviewer, the writing can be optimized for search engine visibility while maintaining ethical standards and transparency.\n",
      "\n",
      "--------------------------------------------------------------------------------\n",
      "\u001b[33mCritic\u001b[0m (to Writer):\n",
      "\n",
      "After aggregating the feedback from the reviewers, it is clear that there are some key points to consider for the writing:\n",
      "\n",
      "1. **SEO Optimization**: The SEO specialists have emphasized the importance of incorporating specific keywords related to deep learning, artificial intelligence, and online courses. Additionally, they recommend including a meta title and description that accurately reflect the content and incorporate primary keywords. Utilizing internal linking within the content is also suggested to guide users to other relevant pages on the website.\n",
      "\n",
      "2. **Transparency and Ethics**: The ethics reviewer has highlighted the importance of transparency, particularly when disclosing any affiliations with DeepLearning.AI. They stress the need to avoid misleading claims by verifying the accuracy of course offerings. Additionally, respecting user privacy by clearly outlining data practices is crucial.\n",
      "\n",
      "**Final Suggestions**:\n",
      "- Incorporate specific keywords related to deep learning, artificial intelligence, and online courses for SEO purposes.\n",
      "- Create a meta title and description that accurately represent the content and include primary keywords.\n",
      "- Implement internal linking within the content to enhance user navigation.\n",
      "- Ensure transparency by disclosing any affiliations with DeepLearning.AI.\n",
      "- Verify the accuracy of course offerings to avoid misleading claims.\n",
      "- Clearly outline data practices to respect user privacy.\n",
      "\n",
      "In conclusion, by addressing the suggestions provided by both the SEO specialists and the ethics reviewer, the writing can be optimized for search engine visibility while maintaining ethical standards and transparency.\n",
      "\n",
      "--------------------------------------------------------------------------------\n",
      "\u001b[33mWriter\u001b[0m (to Critic):\n",
      "\n",
      "Title: Mastering Deep Learning: A Comprehensive Guide to DeepLearning.AI\n",
      "\n",
      "Embark on a journey of artificial intelligence mastery with DeepLearning.AI by Andrew Ng. Explore cutting-edge courses in deep learning, computer vision, and natural language processing. Elevate your skills and stay ahead in this rapidly evolving field. From beginners to experts, this platform offers something for everyone. Dive into the world of AI with industry-leading courses that are both user-friendly and engaging. Join a thriving community and unleash the power of deep learning today.\n",
      "\n",
      "Incorporate primary keywords related to deep learning, artificial intelligence, and online courses for SEO optimization. Craft a meta title and description reflective of the content while enhancing with keywords. Utilize internal linking for seamless user navigation. Disclose any affiliations with DeepLearning.AI transparently and ensure accuracy in course offerings. Respect user privacy by clearly defining data practices.\n",
      "\n",
      "--------------------------------------------------------------------------------\n"
     ]
    }
   ],
   "source": [
    "res = critic.initiate_chat(\n",
    "    recipient=writer,\n",
    "    message=task,\n",
    "    max_turns=2,\n",
    "    summary_method=\"last_msg\"\n",
    ")"
   ]
  },
  {
   "cell_type": "markdown",
   "id": "c5c833b0",
   "metadata": {},
   "source": [
    "## Get the summary"
   ]
  },
  {
   "cell_type": "code",
   "execution_count": 17,
   "id": "68ef82ed-f102-4964-b7be-60e2f258a39b",
   "metadata": {
    "height": 30
   },
   "outputs": [
    {
     "name": "stdout",
     "output_type": "stream",
     "text": [
      "Title: Mastering Deep Learning: A Comprehensive Guide to DeepLearning.AI\n",
      "\n",
      "Embark on a journey of artificial intelligence mastery with DeepLearning.AI by Andrew Ng. Explore cutting-edge courses in deep learning, computer vision, and natural language processing. Elevate your skills and stay ahead in this rapidly evolving field. From beginners to experts, this platform offers something for everyone. Dive into the world of AI with industry-leading courses that are both user-friendly and engaging. Join a thriving community and unleash the power of deep learning today.\n",
      "\n",
      "Incorporate primary keywords related to deep learning, artificial intelligence, and online courses for SEO optimization. Craft a meta title and description reflective of the content while enhancing with keywords. Utilize internal linking for seamless user navigation. Disclose any affiliations with DeepLearning.AI transparently and ensure accuracy in course offerings. Respect user privacy by clearly defining data practices.\n"
     ]
    }
   ],
   "source": [
    "print(res.summary)"
   ]
  }
 ],
 "metadata": {
  "kernelspec": {
   "display_name": ".venv",
   "language": "python",
   "name": "python3"
  },
  "language_info": {
   "codemirror_mode": {
    "name": "ipython",
    "version": 3
   },
   "file_extension": ".py",
   "mimetype": "text/x-python",
   "name": "python",
   "nbconvert_exporter": "python",
   "pygments_lexer": "ipython3",
   "version": "3.10.11"
  }
 },
 "nbformat": 4,
 "nbformat_minor": 5
}
