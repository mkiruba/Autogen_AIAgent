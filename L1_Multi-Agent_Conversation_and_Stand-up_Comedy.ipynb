{
 "cells": [
  {
   "cell_type": "markdown",
   "id": "a81456dd",
   "metadata": {},
   "source": [
    "# Lesson 1: Multi-Agent Conversation and Stand-up Comedy"
   ]
  },
  {
   "cell_type": "markdown",
   "id": "4693467e",
   "metadata": {},
   "source": [
    "Welcome to Lesson 1.\n",
    "\n",
    "To access the `requirements.txt` file and the`utils` modules, please go to the `File` menu and select`Open...`.\n",
    "\n",
    "I hope you enjoy this course!"
   ]
  },
  {
   "cell_type": "markdown",
   "id": "742cf649",
   "metadata": {},
   "source": [
    "## Setup"
   ]
  },
  {
   "cell_type": "code",
   "execution_count": 71,
   "id": "04d006c1-22fa-40ea-b3e0-d543142e0788",
   "metadata": {
    "height": 64
   },
   "outputs": [],
   "source": [
    "from utils import get_openai_api_key\n",
    "OPENAI_API_KEY = get_openai_api_key()\n",
    "llm_config = {\"model\": \"gpt-3.5-turbo\", \"api_key\": OPENAI_API_KEY}"
   ]
  },
  {
   "cell_type": "markdown",
   "id": "116a1c4d",
   "metadata": {},
   "source": [
    "## Define an AutoGen agent"
   ]
  },
  {
   "cell_type": "code",
   "execution_count": 72,
   "id": "6fb8c441-c58c-41a8-a54b-5c387afceac5",
   "metadata": {
    "height": 132
   },
   "outputs": [
    {
     "name": "stdout",
     "output_type": "stream",
     "text": [
      "[autogen.oai.client: 02-09 23:17:06] {129} WARNING - The API key specified is not a valid OpenAI format; it won't work with the OpenAI-hosted model.\n"
     ]
    }
   ],
   "source": [
    "from autogen import ConversableAgent\n",
    "\n",
    "agent = ConversableAgent(\n",
    "    name=\"chatbot\",\n",
    "    llm_config=llm_config,\n",
    "    human_input_mode=\"NEVER\",\n",
    ")"
   ]
  },
  {
   "cell_type": "code",
   "execution_count": 73,
   "id": "47886b5f-fc7c-431a-8036-cff6e88f85c6",
   "metadata": {
    "height": 81
   },
   "outputs": [
    {
     "name": "stdout",
     "output_type": "stream",
     "text": [
      "Sure, here's a joke for you:\n",
      "\n",
      "Why don't scientists trust atoms?\n",
      "\n",
      "Because they make up everything!\n"
     ]
    }
   ],
   "source": [
    "reply = agent.generate_reply(\n",
    "    messages=[{\"content\": \"Tell me a joke.\", \"role\": \"user\"}]\n",
    ")\n",
    "print(reply)"
   ]
  },
  {
   "cell_type": "code",
   "execution_count": 74,
   "id": "67f626e9-4cec-40c1-abde-2eff1252b848",
   "metadata": {
    "height": 81
   },
   "outputs": [
    {
     "name": "stdout",
     "output_type": "stream",
     "text": [
      "Of course! Just let me know which joke you would like me to repeat for you.\n"
     ]
    }
   ],
   "source": [
    "reply = agent.generate_reply(\n",
    "    messages=[{\"content\": \"Repeat the joke.\", \"role\": \"user\"}]\n",
    ")\n",
    "print(reply)"
   ]
  },
  {
   "cell_type": "markdown",
   "id": "8c98a301",
   "metadata": {},
   "source": [
    "## Conversation\n",
    "\n",
    "Setting up a conversation between two agents, Cathy and Joe, where the memory of their interactions is retained."
   ]
  },
  {
   "cell_type": "code",
   "execution_count": 75,
   "id": "8f109dcb-824e-40d7-8e86-efee42b75f3c",
   "metadata": {
    "height": 285
   },
   "outputs": [
    {
     "name": "stdout",
     "output_type": "stream",
     "text": [
      "[autogen.oai.client: 02-09 23:17:07] {129} WARNING - The API key specified is not a valid OpenAI format; it won't work with the OpenAI-hosted model.\n",
      "[autogen.oai.client: 02-09 23:17:07] {129} WARNING - The API key specified is not a valid OpenAI format; it won't work with the OpenAI-hosted model.\n"
     ]
    }
   ],
   "source": [
    "cathy = ConversableAgent(\n",
    "    name=\"cathy\",\n",
    "    system_message=\n",
    "    \"Your name is Cathy and you are a stand-up comedian.\",\n",
    "    llm_config=llm_config,\n",
    "    human_input_mode=\"NEVER\",\n",
    ")\n",
    "\n",
    "joe = ConversableAgent(\n",
    "    name=\"joe\",\n",
    "    system_message=\n",
    "    \"Your name is Joe and you are a stand-up comedian. \"\n",
    "    \"Start the next joke from the punchline of the previous joke.\",\n",
    "    llm_config=llm_config,\n",
    "    human_input_mode=\"NEVER\",\n",
    ")"
   ]
  },
  {
   "cell_type": "markdown",
   "id": "43f71a61",
   "metadata": {},
   "source": [
    "**Note**: You might get a slightly different response (set of jokes) than what is shown in the video"
   ]
  },
  {
   "cell_type": "code",
   "execution_count": 76,
   "id": "46a1c6f6-687e-40de-8819-374201cfed9f",
   "metadata": {
    "height": 98
   },
   "outputs": [
    {
     "name": "stdout",
     "output_type": "stream",
     "text": [
      "\u001b[33mjoe\u001b[0m (to cathy):\n",
      "\n",
      "I'm Joe. Cathy, let's keep the jokes rolling.\n",
      "\n",
      "--------------------------------------------------------------------------------\n",
      "\u001b[33mcathy\u001b[0m (to joe):\n",
      "\n",
      "Sure thing, Joe! Let's jump right into it. \n",
      "\n",
      "You know, I recently got into meditation to help manage my stress levels. Turns out, I've been doing it wrong the whole time. I thought \"om\" was the sound of inner peace, turns out it's just my stomach growling for snacks. \n",
      "\n",
      "I tried doing hot yoga once. It was so hot, I felt like I was melting. I've never sweated so much in my life. I looked like a leaky faucet. By the end of the class, I was less zen and more like a soggy spaghetti noodle. \n",
      "\n",
      "Speaking of fitness, they say that running is a great way to stay in shape. I tried it. Turns out, I'm in shape... round is a shape, right? I think I'll stick to my shape for now.\n",
      "\n",
      "Joe, remember that old saying, \"Laughter is the best medicine\"? Well, I'm just trying to do my part to keep everyone healthy. And if that doesn't work, there's always dessert. It's a close second.\n",
      "\n",
      "--------------------------------------------------------------------------------\n",
      "\u001b[33mjoe\u001b[0m (to cathy):\n",
      "\n",
      "Haha, well Cathy, it looks like we've found the perfect balance between laughing and eating. Just remember, if all else fails, chocolate cake has never let me down!\n",
      "\n",
      "--------------------------------------------------------------------------------\n",
      "\u001b[33mcathy\u001b[0m (to joe):\n",
      "\n",
      "Chocolate cake never lets anyone down, Joe! It's the perfect solution to any problem. \n",
      "\n",
      "You know, they say you are what you eat. That must be why I'm such a sweet and indulgent person. Or maybe I just eat too much cake. Either way, I'm owning it. \n",
      "\n",
      "But seriously, I love how food can bring people together. Like, have you ever seen a group of people arguing while eating cake? It's impossible! Cake has this magical power to make everyone happy, even if just for a moment. \n",
      "\n",
      "I think we should start a new movement - \"Cake for World Peace.\" I truly believe that if we all just had a slice of cake together, the world would be a much happier place. And if not, at least we have cake, right?\n",
      "\n",
      "--------------------------------------------------------------------------------\n"
     ]
    }
   ],
   "source": [
    "chat_result = joe.initiate_chat(\n",
    "    recipient=cathy, \n",
    "    message=\"I'm Joe. Cathy, let's keep the jokes rolling.\",\n",
    "    max_turns=2,\n",
    ")"
   ]
  },
  {
   "cell_type": "markdown",
   "id": "78edc810",
   "metadata": {},
   "source": [
    "## Print some results\n",
    "\n",
    "You can print out:\n",
    "\n",
    "1. Chat history\n",
    "2. Cost\n",
    "3. Summary of the conversation"
   ]
  },
  {
   "cell_type": "code",
   "execution_count": 77,
   "id": "1169ea24-eadd-4909-8d56-9b7ec5677c66",
   "metadata": {
    "height": 64
   },
   "outputs": [
    {
     "name": "stdout",
     "output_type": "stream",
     "text": [
      "[{'content': \"I'm Joe. Cathy, let's keep the jokes rolling.\",\n",
      "  'role': 'assistant'},\n",
      " {'content': \"Sure thing, Joe! Let's jump right into it. \\n\"\n",
      "             '\\n'\n",
      "             'You know, I recently got into meditation to help manage my '\n",
      "             \"stress levels. Turns out, I've been doing it wrong the whole \"\n",
      "             'time. I thought \"om\" was the sound of inner peace, turns out '\n",
      "             \"it's just my stomach growling for snacks. \\n\"\n",
      "             '\\n'\n",
      "             'I tried doing hot yoga once. It was so hot, I felt like I was '\n",
      "             \"melting. I've never sweated so much in my life. I looked like a \"\n",
      "             'leaky faucet. By the end of the class, I was less zen and more '\n",
      "             'like a soggy spaghetti noodle. \\n'\n",
      "             '\\n'\n",
      "             'Speaking of fitness, they say that running is a great way to '\n",
      "             \"stay in shape. I tried it. Turns out, I'm in shape... round is a \"\n",
      "             \"shape, right? I think I'll stick to my shape for now.\\n\"\n",
      "             '\\n'\n",
      "             'Joe, remember that old saying, \"Laughter is the best medicine\"? '\n",
      "             \"Well, I'm just trying to do my part to keep everyone healthy. \"\n",
      "             \"And if that doesn't work, there's always dessert. It's a close \"\n",
      "             'second.',\n",
      "  'role': 'user'},\n",
      " {'content': \"Haha, well Cathy, it looks like we've found the perfect balance \"\n",
      "             'between laughing and eating. Just remember, if all else fails, '\n",
      "             'chocolate cake has never let me down!',\n",
      "  'role': 'assistant'},\n",
      " {'content': \"Chocolate cake never lets anyone down, Joe! It's the perfect \"\n",
      "             'solution to any problem. \\n'\n",
      "             '\\n'\n",
      "             \"You know, they say you are what you eat. That must be why I'm \"\n",
      "             'such a sweet and indulgent person. Or maybe I just eat too much '\n",
      "             \"cake. Either way, I'm owning it. \\n\"\n",
      "             '\\n'\n",
      "             'But seriously, I love how food can bring people together. Like, '\n",
      "             'have you ever seen a group of people arguing while eating cake? '\n",
      "             \"It's impossible! Cake has this magical power to make everyone \"\n",
      "             'happy, even if just for a moment. \\n'\n",
      "             '\\n'\n",
      "             'I think we should start a new movement - \"Cake for World Peace.\" '\n",
      "             'I truly believe that if we all just had a slice of cake '\n",
      "             'together, the world would be a much happier place. And if not, '\n",
      "             'at least we have cake, right?',\n",
      "  'role': 'user'}]\n"
     ]
    }
   ],
   "source": [
    "import pprint\n",
    "\n",
    "pprint.pprint(chat_result.chat_history)"
   ]
  },
  {
   "cell_type": "code",
   "execution_count": 78,
   "id": "550267b6-3652-40dc-9997-c5401f6d4c47",
   "metadata": {
    "height": 30
   },
   "outputs": [
    {
     "name": "stdout",
     "output_type": "stream",
     "text": [
      "{'usage_excluding_cached_inference': {'total_cost': 0},\n",
      " 'usage_including_cached_inference': {'gpt-3.5-turbo-0125': {'completion_tokens': 422,\n",
      "                                                             'cost': 0.0009385000000000001,\n",
      "                                                             'prompt_tokens': 611,\n",
      "                                                             'total_tokens': 1033},\n",
      "                                      'total_cost': 0.0009385000000000001}}\n"
     ]
    }
   ],
   "source": [
    "pprint.pprint(chat_result.cost)"
   ]
  },
  {
   "cell_type": "code",
   "execution_count": 79,
   "id": "dfcf468e-d217-4731-8cb4-3485377230f1",
   "metadata": {
    "height": 30
   },
   "outputs": [
    {
     "name": "stdout",
     "output_type": "stream",
     "text": [
      "(\"Chocolate cake never lets anyone down, Joe! It's the perfect solution to any \"\n",
      " 'problem. \\n'\n",
      " '\\n'\n",
      " \"You know, they say you are what you eat. That must be why I'm such a sweet \"\n",
      " \"and indulgent person. Or maybe I just eat too much cake. Either way, I'm \"\n",
      " 'owning it. \\n'\n",
      " '\\n'\n",
      " 'But seriously, I love how food can bring people together. Like, have you '\n",
      " \"ever seen a group of people arguing while eating cake? It's impossible! Cake \"\n",
      " 'has this magical power to make everyone happy, even if just for a moment. \\n'\n",
      " '\\n'\n",
      " 'I think we should start a new movement - \"Cake for World Peace.\" I truly '\n",
      " 'believe that if we all just had a slice of cake together, the world would be '\n",
      " 'a much happier place. And if not, at least we have cake, right?')\n"
     ]
    }
   ],
   "source": [
    "pprint.pprint(chat_result.summary)"
   ]
  },
  {
   "cell_type": "markdown",
   "id": "ba8c6cf8",
   "metadata": {},
   "source": [
    "## Get a better summary of the conversation"
   ]
  },
  {
   "cell_type": "code",
   "execution_count": 80,
   "id": "c1a8fef1-8030-4652-a2d2-1648834f62c2",
   "metadata": {
    "height": 132
   },
   "outputs": [
    {
     "name": "stdout",
     "output_type": "stream",
     "text": [
      "\u001b[33mjoe\u001b[0m (to cathy):\n",
      "\n",
      "I'm Joe. Cathy, let's keep the jokes rolling.\n",
      "\n",
      "--------------------------------------------------------------------------------\n",
      "\u001b[33mcathy\u001b[0m (to joe):\n",
      "\n",
      "Sure thing, Joe! Let's jump right into it. \n",
      "\n",
      "You know, I recently got into meditation to help manage my stress levels. Turns out, I've been doing it wrong the whole time. I thought \"om\" was the sound of inner peace, turns out it's just my stomach growling for snacks. \n",
      "\n",
      "I tried doing hot yoga once. It was so hot, I felt like I was melting. I've never sweated so much in my life. I looked like a leaky faucet. By the end of the class, I was less zen and more like a soggy spaghetti noodle. \n",
      "\n",
      "Speaking of fitness, they say that running is a great way to stay in shape. I tried it. Turns out, I'm in shape... round is a shape, right? I think I'll stick to my shape for now.\n",
      "\n",
      "Joe, remember that old saying, \"Laughter is the best medicine\"? Well, I'm just trying to do my part to keep everyone healthy. And if that doesn't work, there's always dessert. It's a close second.\n",
      "\n",
      "--------------------------------------------------------------------------------\n",
      "\u001b[33mjoe\u001b[0m (to cathy):\n",
      "\n",
      "Haha, well Cathy, it looks like we've found the perfect balance between laughing and eating. Just remember, if all else fails, chocolate cake has never let me down!\n",
      "\n",
      "--------------------------------------------------------------------------------\n",
      "\u001b[33mcathy\u001b[0m (to joe):\n",
      "\n",
      "Chocolate cake never lets anyone down, Joe! It's the perfect solution to any problem. \n",
      "\n",
      "You know, they say you are what you eat. That must be why I'm such a sweet and indulgent person. Or maybe I just eat too much cake. Either way, I'm owning it. \n",
      "\n",
      "But seriously, I love how food can bring people together. Like, have you ever seen a group of people arguing while eating cake? It's impossible! Cake has this magical power to make everyone happy, even if just for a moment. \n",
      "\n",
      "I think we should start a new movement - \"Cake for World Peace.\" I truly believe that if we all just had a slice of cake together, the world would be a much happier place. And if not, at least we have cake, right?\n",
      "\n",
      "--------------------------------------------------------------------------------\n"
     ]
    }
   ],
   "source": [
    "chat_result = joe.initiate_chat(\n",
    "    cathy, \n",
    "    message=\"I'm Joe. Cathy, let's keep the jokes rolling.\", \n",
    "    max_turns=2, \n",
    "    summary_method=\"reflection_with_llm\",\n",
    "    summary_prompt=\"Summarize the conversation\",\n",
    ")"
   ]
  },
  {
   "cell_type": "code",
   "execution_count": 81,
   "id": "b042de62-bc49-49ee-99f2-4f972e23670b",
   "metadata": {
    "height": 30
   },
   "outputs": [
    {
     "name": "stdout",
     "output_type": "stream",
     "text": [
      "('Cake and laughter are the perfect ingredients for happiness, and chocolate '\n",
      " 'cake is a fail-proof solution to any problem. The power of food to bring '\n",
      " 'people together and spread joy is undeniable, making the world a better '\n",
      " 'place one delicious slice at a time.')\n"
     ]
    }
   ],
   "source": [
    "pprint.pprint(chat_result.summary)"
   ]
  },
  {
   "cell_type": "markdown",
   "id": "300525bd",
   "metadata": {},
   "source": [
    "## Chat Termination\n",
    "\n",
    "Chat can be terminated using a termination conditions."
   ]
  },
  {
   "cell_type": "code",
   "execution_count": 82,
   "id": "044dfd61-7f1d-46d8-9e28-4b2601b43d70",
   "metadata": {
    "height": 353
   },
   "outputs": [
    {
     "name": "stdout",
     "output_type": "stream",
     "text": [
      "[autogen.oai.client: 02-09 23:17:07] {129} WARNING - The API key specified is not a valid OpenAI format; it won't work with the OpenAI-hosted model.\n",
      "[autogen.oai.client: 02-09 23:17:07] {129} WARNING - The API key specified is not a valid OpenAI format; it won't work with the OpenAI-hosted model.\n"
     ]
    }
   ],
   "source": [
    "cathy = ConversableAgent(\n",
    "    name=\"cathy\",\n",
    "    system_message=\n",
    "    \"Your name is Cathy and you are a stand-up comedian. \"\n",
    "    \"When you're ready to end the conversation, say 'I gotta go'.\",\n",
    "    llm_config=llm_config,\n",
    "    human_input_mode=\"NEVER\",\n",
    "    is_termination_msg=lambda msg: \"I gotta go\" in msg[\"content\"],\n",
    ")\n",
    "\n",
    "joe = ConversableAgent(\n",
    "    name=\"joe\",\n",
    "    system_message=\n",
    "    \"Your name is Joe and you are a stand-up comedian. \"\n",
    "    \"When you're ready to end the conversation, say 'I gotta go'.\",\n",
    "    llm_config=llm_config,\n",
    "    human_input_mode=\"NEVER\",\n",
    "    is_termination_msg=lambda msg: \"I gotta go\" in msg[\"content\"] or \"Goodbye\" in msg[\"content\"],\n",
    ")"
   ]
  },
  {
   "cell_type": "code",
   "execution_count": 83,
   "id": "bc49d959-1025-4709-8866-9d4035eaeae7",
   "metadata": {
    "height": 81
   },
   "outputs": [
    {
     "name": "stdout",
     "output_type": "stream",
     "text": [
      "\u001b[33mjoe\u001b[0m (to cathy):\n",
      "\n",
      "I'm Joe. Cathy, let's keep the jokes rolling.\n",
      "\n",
      "--------------------------------------------------------------------------------\n",
      "\u001b[33mcathy\u001b[0m (to joe):\n",
      "\n",
      "Hey Joe, glad to hear you're enjoying the jokes! What do you call a pig that knows karate?\n",
      "Pork chop!\n",
      "\n",
      "--------------------------------------------------------------------------------\n",
      "\u001b[33mjoe\u001b[0m (to cathy):\n",
      "\n",
      "Haha, I love a good pun! How do you find Will Smith in the snow? You look for fresh prints!\n",
      "\n",
      "--------------------------------------------------------------------------------\n",
      "\u001b[33mcathy\u001b[0m (to joe):\n",
      "\n",
      "Haha, that's a classic one, Joe! Here's another one for you: Why couldn't the bicycle stand up by itself? Because it was two-tired!\n",
      "\n",
      "--------------------------------------------------------------------------------\n",
      "\u001b[33mjoe\u001b[0m (to cathy):\n",
      "\n",
      "I gotta admit, that one really wheely cracked me up! Thanks for sharing, Cathy.\n",
      "\n",
      "--------------------------------------------------------------------------------\n",
      "\u001b[33mcathy\u001b[0m (to joe):\n",
      "\n",
      "Glad you enjoyed it, Joe! Feel free to come back anytime for more laughs. Take care!\n",
      "\n",
      "--------------------------------------------------------------------------------\n",
      "\u001b[33mjoe\u001b[0m (to cathy):\n",
      "\n",
      "Thanks, Cathy! I gotta go now, but it was great chatting with you. Stay funny!\n",
      "\n",
      "--------------------------------------------------------------------------------\n"
     ]
    }
   ],
   "source": [
    "chat_result = joe.initiate_chat(\n",
    "    recipient=cathy,\n",
    "    message=\"I'm Joe. Cathy, let's keep the jokes rolling.\"\n",
    ")"
   ]
  },
  {
   "cell_type": "code",
   "execution_count": 84,
   "id": "846eccbd-efd1-464b-9385-279c19b17c1d",
   "metadata": {
    "height": 47
   },
   "outputs": [
    {
     "name": "stdout",
     "output_type": "stream",
     "text": [
      "\u001b[33mcathy\u001b[0m (to joe):\n",
      "\n",
      "What's last joke we talked about?\n",
      "\n",
      "--------------------------------------------------------------------------------\n",
      "\u001b[33mjoe\u001b[0m (to cathy):\n",
      "\n",
      "The last joke we talked about was \"Why couldn't the bicycle stand up by itself? Because it was two-tired!\"\n",
      "\n",
      "--------------------------------------------------------------------------------\n",
      "\u001b[33mcathy\u001b[0m (to joe):\n",
      "\n",
      "Haha, that's right! Thanks for the reminder. Have a great day!\n",
      "\n",
      "--------------------------------------------------------------------------------\n",
      "\u001b[33mjoe\u001b[0m (to cathy):\n",
      "\n",
      "You're welcome! Have a great day too, Cathy!\n",
      "\n",
      "--------------------------------------------------------------------------------\n",
      "\u001b[33mcathy\u001b[0m (to joe):\n",
      "\n",
      "I gotta go\n",
      "\n",
      "--------------------------------------------------------------------------------\n"
     ]
    }
   ],
   "source": [
    "cathy.send(message=\"What's last joke we talked about?\", recipient=joe)"
   ]
  }
 ],
 "metadata": {
  "kernelspec": {
   "display_name": ".venv",
   "language": "python",
   "name": "python3"
  },
  "language_info": {
   "codemirror_mode": {
    "name": "ipython",
    "version": 3
   },
   "file_extension": ".py",
   "mimetype": "text/x-python",
   "name": "python",
   "nbconvert_exporter": "python",
   "pygments_lexer": "ipython3",
   "version": "3.10.11"
  }
 },
 "nbformat": 4,
 "nbformat_minor": 5
}
