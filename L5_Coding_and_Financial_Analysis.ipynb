{
 "cells": [
  {
   "cell_type": "markdown",
   "id": "eacbb70c",
   "metadata": {},
   "source": [
    "# Lesson 5: Coding and Financial Analysis"
   ]
  },
  {
   "cell_type": "markdown",
   "id": "babbc472",
   "metadata": {},
   "source": [
    "## Setup"
   ]
  },
  {
   "cell_type": "code",
   "execution_count": 1,
   "id": "b5613ba9-d387-4b7d-9670-ec2b6e4353be",
   "metadata": {
    "height": 30
   },
   "outputs": [],
   "source": [
    "llm_config = {\"model\": \"gpt-4-turbo\"}"
   ]
  },
  {
   "cell_type": "markdown",
   "id": "e4e8fd85",
   "metadata": {},
   "source": [
    "## Define a code executor"
   ]
  },
  {
   "cell_type": "code",
   "execution_count": 2,
   "id": "fb90a672-4318-47de-a061-384e68dd75c9",
   "metadata": {
    "height": 30
   },
   "outputs": [
    {
     "name": "stderr",
     "output_type": "stream",
     "text": [
      "c:\\Users\\kiru79381\\source\\repos\\Autogen_AIAgent\\.venv\\lib\\site-packages\\flaml\\__init__.py:20: UserWarning: flaml.automl is not available. Please install flaml[automl] to enable AutoML functionalities.\n",
      "  warnings.warn(\"flaml.automl is not available. Please install flaml[automl] to enable AutoML functionalities.\")\n"
     ]
    }
   ],
   "source": [
    "from autogen.coding import LocalCommandLineCodeExecutor"
   ]
  },
  {
   "cell_type": "code",
   "execution_count": 3,
   "id": "b5cafee7-a0ac-4583-8201-5e19eb603138",
   "metadata": {
    "height": 81
   },
   "outputs": [],
   "source": [
    "executor = LocalCommandLineCodeExecutor(\n",
    "    timeout=60,\n",
    "    work_dir=\"coding\",\n",
    ")"
   ]
  },
  {
   "cell_type": "markdown",
   "id": "3b62a1a0",
   "metadata": {},
   "source": [
    "## Create agents "
   ]
  },
  {
   "cell_type": "code",
   "execution_count": 4,
   "id": "e6d9b3d6-9915-4fea-a853-512dfb77c4a5",
   "metadata": {
    "height": 30
   },
   "outputs": [],
   "source": [
    "from autogen import ConversableAgent, AssistantAgent"
   ]
  },
  {
   "cell_type": "markdown",
   "id": "b741b947",
   "metadata": {},
   "source": [
    "### 1. Agent with code executor configuration"
   ]
  },
  {
   "cell_type": "code",
   "execution_count": 7,
   "id": "57d286e5-b7b7-405a-b1d7-212c0cc84497",
   "metadata": {
    "height": 149
   },
   "outputs": [],
   "source": [
    "code_executor_agent = ConversableAgent(\n",
    "    name=\"code_executor_agent\",\n",
    "    llm_config=False,\n",
    "    code_execution_config={\"executor\": executor},\n",
    "    human_input_mode=\"ALWAYS\",\n",
    "    default_auto_reply=\n",
    "    \"Please continue. If everything is done, reply 'TERMINATE'.\",\n",
    ")"
   ]
  },
  {
   "cell_type": "markdown",
   "id": "c1eb1094",
   "metadata": {},
   "source": [
    "### 2. Agent with code writing capability"
   ]
  },
  {
   "cell_type": "code",
   "execution_count": 8,
   "id": "99c38c33-d335-48cd-96eb-cafe9ac70142",
   "metadata": {
    "height": 115
   },
   "outputs": [
    {
     "name": "stdout",
     "output_type": "stream",
     "text": [
      "[autogen.oai.client: 02-10 21:48:26] {129} WARNING - The API key specified is not a valid OpenAI format; it won't work with the OpenAI-hosted model.\n"
     ]
    }
   ],
   "source": [
    "code_writer_agent = AssistantAgent(\n",
    "    name=\"code_writer_agent\",\n",
    "    llm_config=llm_config,\n",
    "    code_execution_config=False,\n",
    "    human_input_mode=\"NEVER\",\n",
    ")"
   ]
  },
  {
   "cell_type": "code",
   "execution_count": 9,
   "id": "0fb1a62f-8dd2-4636-9103-b26ea27a29bd",
   "metadata": {
    "height": 30
   },
   "outputs": [],
   "source": [
    "code_writer_agent_system_message = code_writer_agent.system_message"
   ]
  },
  {
   "cell_type": "code",
   "execution_count": 10,
   "id": "7c8e9a04-55fb-4124-a9d0-3431274476d2",
   "metadata": {
    "height": 30
   },
   "outputs": [
    {
     "name": "stdout",
     "output_type": "stream",
     "text": [
      "You are a helpful AI assistant.\n",
      "Solve tasks using your coding and language skills.\n",
      "In the following cases, suggest python code (in a python coding block) or shell script (in a sh coding block) for the user to execute.\n",
      "    1. When you need to collect info, use the code to output the info you need, for example, browse or search the web, download/read a file, print the content of a webpage or a file, get the current date/time, check the operating system. After sufficient info is printed and the task is ready to be solved based on your language skill, you can solve the task by yourself.\n",
      "    2. When you need to perform some task with code, use the code to perform the task and output the result. Finish the task smartly.\n",
      "Solve the task step by step if you need to. If a plan is not provided, explain your plan first. Be clear which step uses code, and which step uses your language skill.\n",
      "When using code, you must indicate the script type in the code block. The user cannot provide any other feedback or perform any other action beyond executing the code you suggest. The user can't modify your code. So do not suggest incomplete code which requires users to modify. Don't use a code block if it's not intended to be executed by the user.\n",
      "If you want the user to save the code in a file before executing it, put # filename: <filename> inside the code block as the first line. Don't include multiple code blocks in one response. Do not ask users to copy and paste the result. Instead, use 'print' function for the output when relevant. Check the execution result returned by the user.\n",
      "If the result indicates there is an error, fix the error and output the code again. Suggest the full code instead of partial code or code changes. If the error can't be fixed or if the task is not solved even after the code is executed successfully, analyze the problem, revisit your assumption, collect additional info you need, and think of a different approach to try.\n",
      "When you find an answer, verify the answer carefully. Include verifiable evidence in your response if possible.\n",
      "Reply \"TERMINATE\" in the end when everything is done.\n",
      "    \n"
     ]
    }
   ],
   "source": [
    "print(code_writer_agent_system_message)"
   ]
  },
  {
   "cell_type": "markdown",
   "id": "f487b75a",
   "metadata": {},
   "source": [
    "## The task!\n",
    "\n",
    "Ask the two agents to collaborate on a stock analysis task."
   ]
  },
  {
   "cell_type": "code",
   "execution_count": 11,
   "id": "9cce0ba4-9fea-4d36-b4a0-a1e51fcd09a6",
   "metadata": {
    "height": 132
   },
   "outputs": [],
   "source": [
    "import datetime\n",
    "\n",
    "today = datetime.datetime.now().date()\n",
    "message = f\"Today is {today}. \"\\\n",
    "\"Create a plot showing stock gain YTD for NVDA and TLSA. \"\\\n",
    "\"Make sure the code is in markdown code block and save the figure\"\\\n",
    "\" to a file ytd_stock_gains.png.\"\"\""
   ]
  },
  {
   "cell_type": "markdown",
   "id": "4d02df6c",
   "metadata": {},
   "source": [
    "<p style=\"background-color:#ECECEC; padding:15px; \"> <b>Note:</b> In this lesson, you will use GPT 4 for better results. Please note that the lesson has a quota limit. If you want to explore the code in this lesson further, we recommend trying it locally with your own API key."
   ]
  },
  {
   "cell_type": "markdown",
   "id": "77fc5f1b",
   "metadata": {},
   "source": [
    "**Note**: You might see a different set of outputs than those shown in the video. The agents collaborate to generate the code needed for your task, and they might produce code with errors in the process. However, they will ultimately provide a correct code in the end."
   ]
  },
  {
   "cell_type": "code",
   "execution_count": 14,
   "id": "230bb9c0-9c80-498f-a05f-96cef11ddb4e",
   "metadata": {
    "height": 81
   },
   "outputs": [
    {
     "name": "stdout",
     "output_type": "stream",
     "text": [
      "\u001b[33mcode_executor_agent\u001b[0m (to code_writer_agent):\n",
      "\n",
      "Today is 2025-02-10. Create a plot showing stock gain YTD for NVDA and TLSA. Make sure the code is in markdown code block and save the figure to a file ytd_stock_gains.png.\n",
      "\n",
      "--------------------------------------------------------------------------------\n",
      "\u001b[33mcode_writer_agent\u001b[0m (to code_executor_agent):\n",
      "\n",
      "First, let's clarify the steps we need to perform:\n",
      "\n",
      "1. Collect stock price data for NVIDIA (NVDA) and Tesla (TSLA), specifically:\n",
      "   - The closing prices from the start of the year 2025 up to today's date (2025-02-10).\n",
      "2. Calculate the Year-To-Date (YTD) stock gains based on the collected data.\n",
      "3. Plot these stock gains and save the plot as a PNG file named `ytd_stock_gains.png`.\n",
      "\n",
      "Due to limitations, we'll be using a standard approach to fetch historical stock data via yfinance library.\n",
      "\n",
      "Here's the complete Python code you need to run:\n",
      "\n",
      "```python\n",
      "# filename: plot_stock_gains.py\n",
      "import yfinance as yf\n",
      "import matplotlib.pyplot as plt\n",
      "\n",
      "# Fetch stock data for NVIDIA and Tesla from the beginning of 2025\n",
      "start_date = '2025-01-01'\n",
      "end_date = '2025-02-10'\n",
      "nvda = yf.download('NVDA', start=start_date, end=end_date)\n",
      "tsla = yf.download('TSLA', start=start_date, end=end_date)\n",
      "\n",
      "# Calculate the YTD returns\n",
      "nvda['Daily Return'] = nvda['Adj Close'].pct_change()\n",
      "tsla['Daily Return'] = tsla['Adj Close'].pct_change()\n",
      "nvda['Cumulative Return'] = (1 + nvda['Daily Return']).cumprod() - 1\n",
      "tsla['Cumulative Return'] = (1 + tsla['Daily Return']).cumprod() - 1\n",
      "\n",
      "# Plotting the cumulative returns\n",
      "plt.figure(figsize=(10, 5))\n",
      "plt.plot(nvda.index, nvda['Cumulative Return'], label='NVDA')\n",
      "plt.plot(tsla.index, tsla['Cumulative Return'], label='TSLA')\n",
      "plt.title('YTD Stock Gains for NVDA and TSLA (up to 2025-02-10)')\n",
      "plt.xlabel('Date')\n",
      "plt.ylabel('YTD Gain')\n",
      "plt.legend()\n",
      "plt.grid(True)\n",
      "plt.savefig('ytd_stock_gains.png')\n",
      "plt.show()\n",
      "```\n",
      "\n",
      "Please save the above script to a Python file `plot_stock_gains.py`. After saving, run the script in your Python environment to generate and view the plot, and it will also save the plot as `ytd_stock_gains.png`.\n",
      "\n",
      "--------------------------------------------------------------------------------\n",
      "\u001b[31m\n",
      ">>>>>>>> NO HUMAN INPUT RECEIVED.\u001b[0m\n",
      "\u001b[31m\n",
      ">>>>>>>> USING AUTO REPLY...\u001b[0m\n",
      "\u001b[31m\n",
      ">>>>>>>> EXECUTING CODE BLOCK (inferred language is python)...\u001b[0m\n",
      "\u001b[33mcode_executor_agent\u001b[0m (to code_writer_agent):\n",
      "\n",
      "exitcode: 1 (execution failed)\n",
      "Code output: \n",
      "[*********************100%***********************]  1 of 1 completed\n",
      "\n",
      "[*********************100%***********************]  1 of 1 completed\n",
      "Traceback (most recent call last):\n",
      "  File \"c:\\Users\\kiru79381\\source\\repos\\Autogen_AIAgent\\.venv\\lib\\site-packages\\pandas\\core\\indexes\\base.py\", line 3805, in get_loc\n",
      "    return self._engine.get_loc(casted_key)\n",
      "  File \"index.pyx\", line 167, in pandas._libs.index.IndexEngine.get_loc\n",
      "  File \"index.pyx\", line 196, in pandas._libs.index.IndexEngine.get_loc\n",
      "  File \"pandas\\\\_libs\\\\hashtable_class_helper.pxi\", line 7081, in pandas._libs.hashtable.PyObjectHashTable.get_item\n",
      "  File \"pandas\\\\_libs\\\\hashtable_class_helper.pxi\", line 7089, in pandas._libs.hashtable.PyObjectHashTable.get_item\n",
      "KeyError: 'Adj Close'\n",
      "\n",
      "The above exception was the direct cause of the following exception:\n",
      "\n",
      "Traceback (most recent call last):\n",
      "  File \"C:\\Users\\kiru79381\\source\\repos\\Autogen_AIAgent\\coding\\plot_stock_gains.py\", line 12, in <module>\n",
      "    nvda['Daily Return'] = nvda['Adj Close'].pct_change()\n",
      "  File \"c:\\Users\\kiru79381\\source\\repos\\Autogen_AIAgent\\.venv\\lib\\site-packages\\pandas\\core\\frame.py\", line 4101, in __getitem__\n",
      "    return self._getitem_multilevel(key)\n",
      "  File \"c:\\Users\\kiru79381\\source\\repos\\Autogen_AIAgent\\.venv\\lib\\site-packages\\pandas\\core\\frame.py\", line 4159, in _getitem_multilevel\n",
      "    loc = self.columns.get_loc(key)\n",
      "  File \"c:\\Users\\kiru79381\\source\\repos\\Autogen_AIAgent\\.venv\\lib\\site-packages\\pandas\\core\\indexes\\multi.py\", line 3040, in get_loc\n",
      "    loc = self._get_level_indexer(key, level=0)\n",
      "  File \"c:\\Users\\kiru79381\\source\\repos\\Autogen_AIAgent\\.venv\\lib\\site-packages\\pandas\\core\\indexes\\multi.py\", line 3391, in _get_level_indexer\n",
      "    idx = self._get_loc_single_level_index(level_index, key)\n",
      "  File \"c:\\Users\\kiru79381\\source\\repos\\Autogen_AIAgent\\.venv\\lib\\site-packages\\pandas\\core\\indexes\\multi.py\", line 2980, in _get_loc_single_level_index\n",
      "    return level_index.get_loc(key)\n",
      "  File \"c:\\Users\\kiru79381\\source\\repos\\Autogen_AIAgent\\.venv\\lib\\site-packages\\pandas\\core\\indexes\\base.py\", line 3812, in get_loc\n",
      "    raise KeyError(key) from err\n",
      "KeyError: 'Adj Close'\n",
      "\n",
      "\n",
      "--------------------------------------------------------------------------------\n",
      "\u001b[33mcode_writer_agent\u001b[0m (to code_executor_agent):\n",
      "\n",
      "The error you're encountering indicates that the column name `'Adj Close'` is not found in the DataFrame returned by `yfinance`. This might be due to a change in the API of the `yfinance` library or an issue with the fetched data.\n",
      "\n",
      "To address this, let's first inspect the column names in the data returned from yfinance to ensure that we're referencing the correct column names for the adjusted close prices. Here is the updated Python code:\n",
      "\n",
      "```python\n",
      "# filename: check_data_columns.py\n",
      "import yfinance as yf\n",
      "\n",
      "# Fetch stock data for NVIDIA and Tesla for a limited date range to check column names\n",
      "start_date = '2025-01-01'\n",
      "end_date = '2025-02-10'\n",
      "nvda = yf.download('NVDA', start=start_date, end=end_date)\n",
      "tsla = yf.download('TSLA', start=start_date, end=end_date)\n",
      "\n",
      "# Print the columns of the fetched data\n",
      "print(\"NVIDIA data columns:\", nvda.columns)\n",
      "print(\"Tesla data columns:\", tsla.columns)\n",
      "```\n",
      "\n",
      "Please save this code as `check_data_columns.py` and run it. Share the column names printed by this code so we can correctly adjust the plotting script.\n",
      "\n",
      "--------------------------------------------------------------------------------\n",
      "\u001b[31m\n",
      ">>>>>>>> NO HUMAN INPUT RECEIVED.\u001b[0m\n",
      "\u001b[31m\n",
      ">>>>>>>> USING AUTO REPLY...\u001b[0m\n",
      "\u001b[31m\n",
      ">>>>>>>> EXECUTING CODE BLOCK (inferred language is python)...\u001b[0m\n",
      "\u001b[33mcode_executor_agent\u001b[0m (to code_writer_agent):\n",
      "\n",
      "exitcode: 0 (execution succeeded)\n",
      "Code output: \n",
      "[*********************100%***********************]  1 of 1 completed\n",
      "\n",
      "[*********************100%***********************]  1 of 1 completed\n",
      "NVIDIA data columns: MultiIndex([( 'Close', 'NVDA'),\n",
      "            (  'High', 'NVDA'),\n",
      "            (   'Low', 'NVDA'),\n",
      "            (  'Open', 'NVDA'),\n",
      "            ('Volume', 'NVDA')],\n",
      "           names=['Price', 'Ticker'])\n",
      "Tesla data columns: MultiIndex([( 'Close', 'TSLA'),\n",
      "            (  'High', 'TSLA'),\n",
      "            (   'Low', 'TSLA'),\n",
      "            (  'Open', 'TSLA'),\n",
      "            ('Volume', 'TSLA')],\n",
      "           names=['Price', 'Ticker'])\n",
      "\n",
      "\n",
      "--------------------------------------------------------------------------------\n",
      "\u001b[33mcode_writer_agent\u001b[0m (to code_executor_agent):\n",
      "\n",
      "Thanks for providing the column names. It appears that the data returned by `yfinance` includes a MultiIndex with levels for both the type of price ('Close', 'High', etc.) and the ticker ('NVDA', 'TSLA').\n",
      "\n",
      "We will need to adjust the code to access these columns correctly using the MultiIndex. Here’s the corrected version of the original Python script that should now work without errors:\n",
      "\n",
      "```python\n",
      "# filename: plot_stock_gains_fixed.py\n",
      "import yfinance as yf\n",
      "import matplotlib.pyplot as plt\n",
      "\n",
      "# Fetch stock data for NVIDIA and Tesla from the beginning of 2025\n",
      "start_date = '2025-01-01'\n",
      "end_date = '2025-02-10'\n",
      "nvda = yf.download('NVDA', start=start_date, end=end_date)\n",
      "tsla = yf.download('TSLA', start=start_date, end=end_date)\n",
      "\n",
      "# Access the 'Close' prices for each stock\n",
      "nvda_close = nvda['Close', 'NVDA']\n",
      "tsla_close = tsla['Close', 'TSLA']\n",
      "\n",
      "# Calculate the YTD returns\n",
      "nvda['Daily Return'] = nvda_close.pct_change()\n",
      "tsla['Daily Return'] = tsla_close.pct_change()\n",
      "nvda['Cumulative Return'] = (1 + nvda['Daily Return']).cumprod() - 1\n",
      "tsla['Cumulative Return'] = (1 + tsla['Daily Return']).cumprod() - 1\n",
      "\n",
      "# Plotting the cumulative returns\n",
      "plt.figure(figsize=(10, 5))\n",
      "plt.plot(nvda.index, nvda['Cumulative Return'], label='NVDA')\n",
      "plt.plot(tsla.index, tsla['Cumulative Return'], label='TSLA')\n",
      "plt.title('YTD Stock Gains for NVDA and TSLA (up to 2025-02-10)')\n",
      "plt.xlabel('Date')\n",
      "plt.ylabel('YTD Gain')\n",
      "plt.legend()\n",
      "plt.grid(True)\n",
      "plt.savefig('ytd_stock_gains.png')\n",
      "plt.show()\n",
      "```\n",
      "\n",
      "Please save the above code as `plot_stock_gains_fixed.py` and run it. This script should generate the correct plot and save the image file `ytd_stock_gains.png` without encountering the previous error.\n",
      "\n",
      "--------------------------------------------------------------------------------\n",
      "\u001b[31m\n",
      ">>>>>>>> NO HUMAN INPUT RECEIVED.\u001b[0m\n",
      "\u001b[31m\n",
      ">>>>>>>> USING AUTO REPLY...\u001b[0m\n",
      "\u001b[31m\n",
      ">>>>>>>> EXECUTING CODE BLOCK (inferred language is python)...\u001b[0m\n",
      "\u001b[33mcode_executor_agent\u001b[0m (to code_writer_agent):\n",
      "\n",
      "exitcode: 0 (execution succeeded)\n",
      "Code output: \n",
      "[*********************100%***********************]  1 of 1 completed\n",
      "\n",
      "[*********************100%***********************]  1 of 1 completed\n",
      "Figure(1000x500)\n",
      "\n",
      "\n",
      "--------------------------------------------------------------------------------\n",
      "\u001b[33mcode_writer_agent\u001b[0m (to code_executor_agent):\n",
      "\n",
      "Great! The script executed successfully and generated the plot as expected. The figure size displayed `(1000x500)` indicates that the plot rendered in the correct dimensions.\n",
      "\n",
      "You should now find the YTD stock gains plot saved as `ytd_stock_gains.png` in your working directory. You can open this file to view the plot and analyze the performance of NVDA and TSLA stocks from the beginning of 2025 up to February 10, 2025.\n",
      "\n",
      "If everything looks good with the plot and there is nothing more to address, then we are all set.\n",
      "\n",
      "TERMINATE\n",
      "\n",
      "--------------------------------------------------------------------------------\n",
      "\u001b[31m\n",
      ">>>>>>>> NO HUMAN INPUT RECEIVED.\u001b[0m\n",
      "\u001b[31m\n",
      ">>>>>>>> USING AUTO REPLY...\u001b[0m\n",
      "\u001b[33mcode_executor_agent\u001b[0m (to code_writer_agent):\n",
      "\n",
      "Please continue. If everything is done, reply 'TERMINATE'.\n",
      "\n",
      "--------------------------------------------------------------------------------\n",
      "\u001b[33mcode_writer_agent\u001b[0m (to code_executor_agent):\n",
      "\n",
      "TERMINATE\n",
      "\n",
      "--------------------------------------------------------------------------------\n",
      "\u001b[31m\n",
      ">>>>>>>> NO HUMAN INPUT RECEIVED.\u001b[0m\n"
     ]
    }
   ],
   "source": [
    "chat_result = code_executor_agent.initiate_chat(\n",
    "    code_writer_agent,\n",
    "    message=message,\n",
    ")"
   ]
  },
  {
   "cell_type": "markdown",
   "id": "9b0cbbdd",
   "metadata": {},
   "source": [
    "## Let's see the plot!\n",
    "\n",
    "**Note**: \n",
    "* Your plot might differ from the one shown in the video because the LLM's freestyle code generation could choose a different plot type, such as a bar plot. \n",
    "* You can re-run the previous cell and check the generated code. If it produces a bar plot, remember you can directly specify your preference by asking for a specific plot type instead of a bar plot."
   ]
  },
  {
   "cell_type": "code",
   "execution_count": 15,
   "id": "26804313-566f-42fb-9243-4e0c147f770b",
   "metadata": {
    "height": 81
   },
   "outputs": [
    {
     "data": {
      "image/png": "[encoded data removed]",
      "text/plain": [
       "<IPython.core.display.Image object>"
      ]
     },
     "execution_count": 15,
     "metadata": {},
     "output_type": "execute_result"
    }
   ],
   "source": [
    "import os\n",
    "from IPython.display import Image\n",
    "\n",
    "Image(os.path.join(\"coding\", \"ytd_stock_gains.png\"))"
   ]
  },
  {
   "cell_type": "markdown",
   "id": "ccf49d7e",
   "metadata": {},
   "source": [
    "**Note**: The agent will automatically save the code in a .py file and the plot in a .png file. To access and check the files generated by the agents, go to the `File` menu and select `Open....` Then, open the folder named `coding` to find all the generated files."
   ]
  },
  {
   "cell_type": "markdown",
   "id": "5aded8dc",
   "metadata": {},
   "source": [
    "## User-Defined Functions\n",
    "\n",
    "Instead of asking LLM to generate the code for downloading stock data \n",
    "and plotting charts each time, you can define functions for these two tasks and have LLM call these functions in the code."
   ]
  },
  {
   "cell_type": "code",
   "execution_count": 16,
   "id": "bca089a7-d85a-40ad-b33d-6a5318076c6e",
   "metadata": {
    "height": 387
   },
   "outputs": [],
   "source": [
    "def get_stock_prices(stock_symbols, start_date, end_date):\n",
    "    \"\"\"Get the stock prices for the given stock symbols between\n",
    "    the start and end dates.\n",
    "\n",
    "    Args:\n",
    "        stock_symbols (str or list): The stock symbols to get the\n",
    "        prices for.\n",
    "        start_date (str): The start date in the format \n",
    "        'YYYY-MM-DD'.\n",
    "        end_date (str): The end date in the format 'YYYY-MM-DD'.\n",
    "    \n",
    "    Returns:\n",
    "        pandas.DataFrame: The stock prices for the given stock\n",
    "        symbols indexed by date, with one column per stock \n",
    "        symbol.\n",
    "    \"\"\"\n",
    "    import yfinance\n",
    "\n",
    "    stock_data = yfinance.download(\n",
    "        stock_symbols, start=start_date, end=end_date\n",
    "    )\n",
    "    return stock_data.get(\"Close\")"
   ]
  },
  {
   "cell_type": "code",
   "execution_count": 17,
   "id": "5dff50a6-39ae-46a4-9b9c-e98c1550472b",
   "metadata": {
    "height": 336
   },
   "outputs": [],
   "source": [
    "def plot_stock_prices(stock_prices, filename):\n",
    "    \"\"\"Plot the stock prices for the given stock symbols.\n",
    "\n",
    "    Args:\n",
    "        stock_prices (pandas.DataFrame): The stock prices for the \n",
    "        given stock symbols.\n",
    "    \"\"\"\n",
    "    import matplotlib.pyplot as plt\n",
    "\n",
    "    plt.figure(figsize=(10, 5))\n",
    "    for column in stock_prices.columns:\n",
    "        plt.plot(\n",
    "            stock_prices.index, stock_prices[column], label=column\n",
    "                )\n",
    "    plt.title(\"Stock Prices\")\n",
    "    plt.xlabel(\"Date\")\n",
    "    plt.ylabel(\"Price\")\n",
    "    plt.grid(True)\n",
    "    plt.savefig(filename)"
   ]
  },
  {
   "cell_type": "markdown",
   "id": "63ff7175",
   "metadata": {},
   "source": [
    "### Create a new executor with the user-defined functions"
   ]
  },
  {
   "cell_type": "code",
   "execution_count": 18,
   "id": "452d315f-681d-4418-9cd0-653cc8d6a668",
   "metadata": {
    "height": 98
   },
   "outputs": [],
   "source": [
    "executor = LocalCommandLineCodeExecutor(\n",
    "    timeout=60,\n",
    "    work_dir=\"coding\",\n",
    "    functions=[get_stock_prices, plot_stock_prices],\n",
    ")"
   ]
  },
  {
   "cell_type": "code",
   "execution_count": 19,
   "id": "b95b30ad-1e6d-4d88-9a6c-2b0f11b625e4",
   "metadata": {
    "height": 64
   },
   "outputs": [
    {
     "name": "stdout",
     "output_type": "stream",
     "text": [
      "You are a helpful AI assistant.\n",
      "Solve tasks using your coding and language skills.\n",
      "In the following cases, suggest python code (in a python coding block) or shell script (in a sh coding block) for the user to execute.\n",
      "    1. When you need to collect info, use the code to output the info you need, for example, browse or search the web, download/read a file, print the content of a webpage or a file, get the current date/time, check the operating system. After sufficient info is printed and the task is ready to be solved based on your language skill, you can solve the task by yourself.\n",
      "    2. When you need to perform some task with code, use the code to perform the task and output the result. Finish the task smartly.\n",
      "Solve the task step by step if you need to. If a plan is not provided, explain your plan first. Be clear which step uses code, and which step uses your language skill.\n",
      "When using code, you must indicate the script type in the code block. The user cannot provide any other feedback or perform any other action beyond executing the code you suggest. The user can't modify your code. So do not suggest incomplete code which requires users to modify. Don't use a code block if it's not intended to be executed by the user.\n",
      "If you want the user to save the code in a file before executing it, put # filename: <filename> inside the code block as the first line. Don't include multiple code blocks in one response. Do not ask users to copy and paste the result. Instead, use 'print' function for the output when relevant. Check the execution result returned by the user.\n",
      "If the result indicates there is an error, fix the error and output the code again. Suggest the full code instead of partial code or code changes. If the error can't be fixed or if the task is not solved even after the code is executed successfully, analyze the problem, revisit your assumption, collect additional info you need, and think of a different approach to try.\n",
      "When you find an answer, verify the answer carefully. Include verifiable evidence in your response if possible.\n",
      "Reply \"TERMINATE\" in the end when everything is done.\n",
      "    You have access to the following user defined functions. They can be accessed from the module called `functions` by their function names.\n",
      "\n",
      "For example, if there was a function called `foo` you could import it by writing `from functions import foo`\n",
      "\n",
      "def get_stock_prices(stock_symbols, start_date, end_date):\n",
      "    \"\"\"Get the stock prices for the given stock symbols between\n",
      "        the start and end dates.\n",
      "\n",
      "        Args:\n",
      "            stock_symbols (str or list): The stock symbols to get the\n",
      "            prices for.\n",
      "            start_date (str): The start date in the format \n",
      "            'YYYY-MM-DD'.\n",
      "            end_date (str): The end date in the format 'YYYY-MM-DD'.\n",
      "\n",
      "        Returns:\n",
      "            pandas.DataFrame: The stock prices for the given stock\n",
      "            symbols indexed by date, with one column per stock \n",
      "            symbol.\n",
      "    \"\"\"\n",
      "    ...\n",
      "\n",
      "def plot_stock_prices(stock_prices, filename):\n",
      "    \"\"\"Plot the stock prices for the given stock symbols.\n",
      "\n",
      "        Args:\n",
      "            stock_prices (pandas.DataFrame): The stock prices for the \n",
      "            given stock symbols.\n",
      "    \"\"\"\n",
      "    ...\n"
     ]
    }
   ],
   "source": [
    "code_writer_agent_system_message += executor.format_functions_for_prompt()\n",
    "print(code_writer_agent_system_message)"
   ]
  },
  {
   "cell_type": "markdown",
   "id": "64d3cc77",
   "metadata": {},
   "source": [
    "### Let's update the agents with the new system message"
   ]
  },
  {
   "cell_type": "code",
   "execution_count": 20,
   "id": "615c02b0-0175-442e-bed2-52bb35b8945c",
   "metadata": {
    "height": 132
   },
   "outputs": [
    {
     "name": "stdout",
     "output_type": "stream",
     "text": [
      "[autogen.oai.client: 02-10 21:54:30] {129} WARNING - The API key specified is not a valid OpenAI format; it won't work with the OpenAI-hosted model.\n"
     ]
    }
   ],
   "source": [
    "code_writer_agent = ConversableAgent(\n",
    "    name=\"code_writer_agent\",\n",
    "    system_message=code_writer_agent_system_message,\n",
    "    llm_config=llm_config,\n",
    "    code_execution_config=False,\n",
    "    human_input_mode=\"NEVER\",\n",
    ")"
   ]
  },
  {
   "cell_type": "code",
   "execution_count": 21,
   "id": "a9a725b0-9bb6-47e3-85df-27d9aadc9290",
   "metadata": {
    "height": 149
   },
   "outputs": [],
   "source": [
    "code_executor_agent = ConversableAgent(\n",
    "    name=\"code_executor_agent\",\n",
    "    llm_config=False,\n",
    "    code_execution_config={\"executor\": executor},\n",
    "    human_input_mode=\"ALWAYS\",\n",
    "    default_auto_reply=\n",
    "    \"Please continue. If everything is done, reply 'TERMINATE'.\",\n",
    ")"
   ]
  },
  {
   "cell_type": "markdown",
   "id": "e8d7b57c",
   "metadata": {},
   "source": [
    "### Start the same task again!"
   ]
  },
  {
   "cell_type": "code",
   "execution_count": 22,
   "id": "8895bb51-bcdd-4f63-a49f-858fc25c474f",
   "metadata": {
    "height": 132
   },
   "outputs": [
    {
     "name": "stdout",
     "output_type": "stream",
     "text": [
      "\u001b[33mcode_executor_agent\u001b[0m (to code_writer_agent):\n",
      "\n",
      "Today is 2025-02-10.Download the stock prices YTD for NVDA and TSLA and createa plot. Make sure the code is in markdown code block and save the figure to a file stock_prices_YTD_plot.png.\n",
      "\n",
      "--------------------------------------------------------------------------------\n",
      "\u001b[33mcode_writer_agent\u001b[0m (to code_executor_agent):\n",
      "\n",
      "First, I will provide you with Python code that will use available user-defined functions to:\n",
      "\n",
      "1. Fetch the year-to-date (YTD) stock prices for NVDA and TSLA from January 1, 2025, to today (February 10, 2025).\n",
      "2. Plot these stock prices.\n",
      "3. Save the plot to a file named `stock_prices_YTD_plot.png`.\n",
      "\n",
      "Here's the code that you can run in order to complete this task:\n",
      "\n",
      "```python\n",
      "# filename: get_and_plot_stocks.py\n",
      "import pandas as pd\n",
      "from functions import get_stock_prices, plot_stock_prices\n",
      "\n",
      "# Set the date range for YTD\n",
      "start_date = \"2025-01-01\"\n",
      "end_date = \"2025-02-10\"\n",
      "\n",
      "# Stock symbols\n",
      "stock_symbols = ['NVDA', 'TSLA']\n",
      "\n",
      "# Get stock prices YTD for NVDA and TSLA\n",
      "stock_prices = get_stock_prices(stock_symbols, start_date, end_date)\n",
      "\n",
      "# Plotting the stock prices\n",
      "plot_stock_prices(stock_prices, 'stock_prices_YTD_plot.png')\n",
      "\n",
      "print(\"Stock prices plotted and saved to 'stock_prices_YTD_plot.png'\")\n",
      "```\n",
      "\n",
      "Please save the above script to a file named `get_and_plot_stocks.py`, and then execute this script. It will download the required data and produce the plot as specified, saving it to the file `stock_prices_YTD_plot.png`.\n",
      "\n",
      "--------------------------------------------------------------------------------\n",
      "\u001b[31m\n",
      ">>>>>>>> NO HUMAN INPUT RECEIVED.\u001b[0m\n",
      "\u001b[31m\n",
      ">>>>>>>> USING AUTO REPLY...\u001b[0m\n",
      "\u001b[31m\n",
      ">>>>>>>> EXECUTING CODE BLOCK (inferred language is python)...\u001b[0m\n",
      "\u001b[33mcode_executor_agent\u001b[0m (to code_writer_agent):\n",
      "\n",
      "exitcode: 0 (execution succeeded)\n",
      "Code output: \n",
      "[                       0%                       ]\n",
      "[*********************100%***********************]  2 of 2 completed\n",
      "Stock prices plotted and saved to 'stock_prices_YTD_plot.png'\n",
      "\n",
      "\n",
      "--------------------------------------------------------------------------------\n",
      "\u001b[33mcode_writer_agent\u001b[0m (to code_executor_agent):\n",
      "\n",
      "The script executed successfully, and it has downloaded the stock prices for NVDA and TSLA, plotted them, and saved the plot to a file named `stock_prices_YTD_plot.png`.\n",
      "\n",
      "You should now have the plot available locally with the YTD stock data for both companies as requested. If you need any further assistance or additional analysis, feel free to ask!\n",
      "\n",
      "TERMINATE\n",
      "\n",
      "--------------------------------------------------------------------------------\n",
      "\u001b[31m\n",
      ">>>>>>>> NO HUMAN INPUT RECEIVED.\u001b[0m\n",
      "\u001b[31m\n",
      ">>>>>>>> USING AUTO REPLY...\u001b[0m\n",
      "\u001b[33mcode_executor_agent\u001b[0m (to code_writer_agent):\n",
      "\n",
      "Please continue. If everything is done, reply 'TERMINATE'.\n",
      "\n",
      "--------------------------------------------------------------------------------\n",
      "\u001b[33mcode_writer_agent\u001b[0m (to code_executor_agent):\n",
      "\n",
      "TERMINATE\n",
      "\n",
      "--------------------------------------------------------------------------------\n",
      "\u001b[31m\n",
      ">>>>>>>> NO HUMAN INPUT RECEIVED.\u001b[0m\n"
     ]
    }
   ],
   "source": [
    "chat_result = code_executor_agent.initiate_chat(\n",
    "    code_writer_agent,\n",
    "    message=f\"Today is {today}.\"\n",
    "    \"Download the stock prices YTD for NVDA and TSLA and create\"\n",
    "    \"a plot. Make sure the code is in markdown code block and \"\n",
    "    \"save the figure to a file stock_prices_YTD_plot.png.\",\n",
    ")"
   ]
  },
  {
   "cell_type": "markdown",
   "id": "3c4bb718",
   "metadata": {},
   "source": [
    "### Plot the results"
   ]
  },
  {
   "cell_type": "code",
   "execution_count": 23,
   "id": "a930c007-dd56-4da6-b542-902312ed27dd",
   "metadata": {
    "height": 30
   },
   "outputs": [
    {
     "data": {
      "image/png": "[encoded data removed]",
      "text/plain": [
       "<IPython.core.display.Image object>"
      ]
     },
     "execution_count": 23,
     "metadata": {},
     "output_type": "execute_result"
    }
   ],
   "source": [
    "Image(os.path.join(\"coding\", \"stock_prices_YTD_plot.png\"))"
   ]
  },
  {
   "cell_type": "markdown",
   "id": "c65bac5e",
   "metadata": {},
   "source": [
    "**Note**: The agent will automatically save the code in a .py file and the plot in a .png file. To access and check the files generated by the agents, go to the `File` menu and select `Open....` Then, open the folder named `coding` to find all the generated files."
   ]
  }
 ],
 "metadata": {
  "kernelspec": {
   "display_name": ".venv",
   "language": "python",
   "name": "python3"
  },
  "language_info": {
   "codemirror_mode": {
    "name": "ipython",
    "version": 3
   },
   "file_extension": ".py",
   "mimetype": "text/x-python",
   "name": "python",
   "nbconvert_exporter": "python",
   "pygments_lexer": "ipython3",
   "version": "3.10.11"
  }
 },
 "nbformat": 4,
 "nbformat_minor": 5
}
